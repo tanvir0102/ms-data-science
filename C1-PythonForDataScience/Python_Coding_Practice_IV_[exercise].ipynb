{
  "cells": [
    {
      "cell_type": "code",
      "execution_count": 5,
      "metadata": {
        "colab": {
          "base_uri": "https://localhost:8080/",
          "height": 321
        },
        "id": "AQLYfHxWCY1u",
        "outputId": "aad9c01b-7bc6-4b8c-8b78-954cfc846f0e"
      },
      "outputs": [
        {
          "data": {
            "text/html": [
              "<div>\n",
              "<style scoped>\n",
              "    .dataframe tbody tr th:only-of-type {\n",
              "        vertical-align: middle;\n",
              "    }\n",
              "\n",
              "    .dataframe tbody tr th {\n",
              "        vertical-align: top;\n",
              "    }\n",
              "\n",
              "    .dataframe thead th {\n",
              "        text-align: right;\n",
              "    }\n",
              "</style>\n",
              "<table border=\"1\" class=\"dataframe\">\n",
              "  <thead>\n",
              "    <tr style=\"text-align: right;\">\n",
              "      <th></th>\n",
              "      <th>restaurant_no</th>\n",
              "      <th>restaurant_name</th>\n",
              "      <th>city</th>\n",
              "      <th>address</th>\n",
              "      <th>rating</th>\n",
              "      <th>cost_per_person</th>\n",
              "      <th>cuisine</th>\n",
              "      <th>restaurant_link</th>\n",
              "      <th>menu_category</th>\n",
              "      <th>item</th>\n",
              "      <th>price</th>\n",
              "      <th>veg_or_non-veg</th>\n",
              "    </tr>\n",
              "  </thead>\n",
              "  <tbody>\n",
              "    <tr>\n",
              "      <th>0</th>\n",
              "      <td>1</td>\n",
              "      <td>Tandoor Hut</td>\n",
              "      <td>Bangalore</td>\n",
              "      <td>Tandoor Hut, 477, KHB Colony, 5th Block, Koram...</td>\n",
              "      <td>4.3</td>\n",
              "      <td>300.0</td>\n",
              "      <td>Biryani,Chinese</td>\n",
              "      <td>https://www.swiggy.com/restaurants/tandoor-hut...</td>\n",
              "      <td>Accompaniments</td>\n",
              "      <td>Roasted Papad</td>\n",
              "      <td>35</td>\n",
              "      <td>Veg</td>\n",
              "    </tr>\n",
              "    <tr>\n",
              "      <th>1</th>\n",
              "      <td>1</td>\n",
              "      <td>Tandoor Hut</td>\n",
              "      <td>Bangalore</td>\n",
              "      <td>Tandoor Hut, 477, KHB Colony, 5th Block, Koram...</td>\n",
              "      <td>4.3</td>\n",
              "      <td>300.0</td>\n",
              "      <td>Biryani,Chinese</td>\n",
              "      <td>https://www.swiggy.com/restaurants/tandoor-hut...</td>\n",
              "      <td>Accompaniments</td>\n",
              "      <td>Fried Papad</td>\n",
              "      <td>40</td>\n",
              "      <td>Veg</td>\n",
              "    </tr>\n",
              "    <tr>\n",
              "      <th>2</th>\n",
              "      <td>1</td>\n",
              "      <td>Tandoor Hut</td>\n",
              "      <td>Bangalore</td>\n",
              "      <td>Tandoor Hut, 477, KHB Colony, 5th Block, Koram...</td>\n",
              "      <td>4.3</td>\n",
              "      <td>300.0</td>\n",
              "      <td>Biryani,Chinese</td>\n",
              "      <td>https://www.swiggy.com/restaurants/tandoor-hut...</td>\n",
              "      <td>Indian Breads</td>\n",
              "      <td>Tandoori Roti (1 Pc)</td>\n",
              "      <td>45</td>\n",
              "      <td>Veg</td>\n",
              "    </tr>\n",
              "    <tr>\n",
              "      <th>3</th>\n",
              "      <td>1</td>\n",
              "      <td>Tandoor Hut</td>\n",
              "      <td>Bangalore</td>\n",
              "      <td>Tandoor Hut, 477, KHB Colony, 5th Block, Koram...</td>\n",
              "      <td>4.3</td>\n",
              "      <td>300.0</td>\n",
              "      <td>Biryani,Chinese</td>\n",
              "      <td>https://www.swiggy.com/restaurants/tandoor-hut...</td>\n",
              "      <td>Indian Breads</td>\n",
              "      <td>Butter Roti</td>\n",
              "      <td>50</td>\n",
              "      <td>Veg</td>\n",
              "    </tr>\n",
              "    <tr>\n",
              "      <th>4</th>\n",
              "      <td>1</td>\n",
              "      <td>Tandoor Hut</td>\n",
              "      <td>Bangalore</td>\n",
              "      <td>Tandoor Hut, 477, KHB Colony, 5th Block, Koram...</td>\n",
              "      <td>4.3</td>\n",
              "      <td>300.0</td>\n",
              "      <td>Biryani,Chinese</td>\n",
              "      <td>https://www.swiggy.com/restaurants/tandoor-hut...</td>\n",
              "      <td>Indian Breads</td>\n",
              "      <td>Plain Kulcha (1 Pc)</td>\n",
              "      <td>50</td>\n",
              "      <td>Veg</td>\n",
              "    </tr>\n",
              "  </tbody>\n",
              "</table>\n",
              "</div>"
            ],
            "text/plain": [
              "   restaurant_no restaurant_name       city  \\\n",
              "0              1     Tandoor Hut  Bangalore   \n",
              "1              1     Tandoor Hut  Bangalore   \n",
              "2              1     Tandoor Hut  Bangalore   \n",
              "3              1     Tandoor Hut  Bangalore   \n",
              "4              1     Tandoor Hut  Bangalore   \n",
              "\n",
              "                                             address  rating  cost_per_person  \\\n",
              "0  Tandoor Hut, 477, KHB Colony, 5th Block, Koram...     4.3            300.0   \n",
              "1  Tandoor Hut, 477, KHB Colony, 5th Block, Koram...     4.3            300.0   \n",
              "2  Tandoor Hut, 477, KHB Colony, 5th Block, Koram...     4.3            300.0   \n",
              "3  Tandoor Hut, 477, KHB Colony, 5th Block, Koram...     4.3            300.0   \n",
              "4  Tandoor Hut, 477, KHB Colony, 5th Block, Koram...     4.3            300.0   \n",
              "\n",
              "           cuisine                                    restaurant_link  \\\n",
              "0  Biryani,Chinese  https://www.swiggy.com/restaurants/tandoor-hut...   \n",
              "1  Biryani,Chinese  https://www.swiggy.com/restaurants/tandoor-hut...   \n",
              "2  Biryani,Chinese  https://www.swiggy.com/restaurants/tandoor-hut...   \n",
              "3  Biryani,Chinese  https://www.swiggy.com/restaurants/tandoor-hut...   \n",
              "4  Biryani,Chinese  https://www.swiggy.com/restaurants/tandoor-hut...   \n",
              "\n",
              "    menu_category                  item price veg_or_non-veg  \n",
              "0  Accompaniments         Roasted Papad    35            Veg  \n",
              "1  Accompaniments           Fried Papad    40            Veg  \n",
              "2   Indian Breads  Tandoori Roti (1 Pc)    45            Veg  \n",
              "3   Indian Breads           Butter Roti    50            Veg  \n",
              "4   Indian Breads   Plain Kulcha (1 Pc)    50            Veg  "
            ]
          },
          "execution_count": 5,
          "metadata": {},
          "output_type": "execute_result"
        }
      ],
      "source": [
        "import pandas as pd\n",
        "import numpy as np\n",
        "import matplotlib.pyplot as plt\n",
        "import seaborn as sns\n",
        "\n",
        "swiggy_data = pd.read_csv('swiggy.csv')  # please load this dataset to proceed\n",
        "swiggy_data.head()"
      ]
    },
    {
      "cell_type": "code",
      "execution_count": 6,
      "metadata": {},
      "outputs": [
        {
          "data": {
            "text/plain": [
              "(50046, 12)"
            ]
          },
          "execution_count": 6,
          "metadata": {},
          "output_type": "execute_result"
        }
      ],
      "source": [
        "swiggy_data.shape"
      ]
    },
    {
      "cell_type": "code",
      "execution_count": 7,
      "metadata": {},
      "outputs": [],
      "source": [
        "num_row = 50046\n",
        "swiggy_data['delivery_time'] = np.random.randint(29, 78, size=num_row)"
      ]
    },
    {
      "cell_type": "code",
      "execution_count": 11,
      "metadata": {},
      "outputs": [
        {
          "data": {
            "text/plain": [
              "0        47\n",
              "1        47\n",
              "2        47\n",
              "3        70\n",
              "4        58\n",
              "         ..\n",
              "50041    32\n",
              "50042    69\n",
              "50043    46\n",
              "50044    68\n",
              "50045    76\n",
              "Name: delivery_time, Length: 50046, dtype: int32"
            ]
          },
          "execution_count": 11,
          "metadata": {},
          "output_type": "execute_result"
        }
      ],
      "source": [
        "swiggy_data.delivery_time"
      ]
    },
    {
      "cell_type": "code",
      "execution_count": 12,
      "metadata": {},
      "outputs": [
        {
          "data": {
            "text/plain": [
              "(50046, 13)"
            ]
          },
          "execution_count": 12,
          "metadata": {},
          "output_type": "execute_result"
        }
      ],
      "source": [
        "swiggy_data.shape"
      ]
    },
    {
      "cell_type": "code",
      "execution_count": 13,
      "metadata": {},
      "outputs": [
        {
          "data": {
            "text/plain": [
              "Index(['restaurant_no', 'restaurant_name', 'city', 'address', 'rating',\n",
              "       'cost_per_person', 'cuisine', 'restaurant_link', 'menu_category',\n",
              "       'item', 'price', 'veg_or_non-veg', 'delivery_time'],\n",
              "      dtype='object')"
            ]
          },
          "execution_count": 13,
          "metadata": {},
          "output_type": "execute_result"
        }
      ],
      "source": [
        "swiggy_data.columns"
      ]
    },
    {
      "cell_type": "markdown",
      "metadata": {
        "id": "IGgqvEZ5CL0P"
      },
      "source": [
        "### Quiz 1\n",
        "The `swiggy_data` dataframe contains prices in INR. Convert these to USD. Use a conversion factor of $0.012$. Do not change the original dataframe. Instead, create a new column named `'Price in USD'` and add it to the dataframe."
      ]
    },
    {
      "cell_type": "code",
      "execution_count": null,
      "metadata": {
        "id": "y3XIgoE7CKPC"
      },
      "outputs": [],
      "source": [
        "### YOUR CODE HERE ###"
      ]
    },
    {
      "cell_type": "markdown",
      "metadata": {
        "id": "6G-sG2R6Cikw"
      },
      "source": [
        "### Quiz 2\n",
        "Calculate the mean of the `'Price'` and `'Delivery time'` columns in the `swiggy_data` dataframe. Add this value as a new column with the feature name `'Avg Cost-Time'`. Then, print the subset of the dataframe containing the `'Restaurant'`, `'Price'`, `'Delivery time'`, and `'Avg Cost-Time'` columns."
      ]
    },
    {
      "cell_type": "code",
      "execution_count": null,
      "metadata": {
        "id": "A46aDmwRCiIG"
      },
      "outputs": [],
      "source": [
        "### YOUR CODE HERE ###"
      ]
    },
    {
      "cell_type": "markdown",
      "metadata": {
        "id": "-tS8qozRC7m9"
      },
      "source": [
        "### Quiz 3\n",
        "Find the price difference between the most and least expensive meals in the `swiggy_data` dataframe."
      ]
    },
    {
      "cell_type": "code",
      "execution_count": null,
      "metadata": {
        "id": "O9uf4kJFC6dm"
      },
      "outputs": [],
      "source": [
        "### YOUR CODE HERE ###"
      ]
    },
    {
      "cell_type": "markdown",
      "metadata": {
        "id": "DpEu0i6aDQpi"
      },
      "source": [
        "### Quiz 4\n",
        "Are there more restaurants in Bangalore or in other cities in the `swiggy_data` dataframe?"
      ]
    },
    {
      "cell_type": "code",
      "execution_count": null,
      "metadata": {
        "id": "gcgszlUdDOLB"
      },
      "outputs": [],
      "source": [
        "### YOUR CODE HERE ###"
      ]
    },
    {
      "cell_type": "markdown",
      "metadata": {
        "id": "oOmUMBV8ElYP"
      },
      "source": [
        "### Quiz 5\n",
        "Create a line plot of `Price` and `Delivery time` for restaurants using the `swiggy_data` dataframe."
      ]
    },
    {
      "cell_type": "code",
      "execution_count": null,
      "metadata": {
        "id": "a3JGmZMCEqEm"
      },
      "outputs": [],
      "source": [
        "### YOUR CODE HERE ###"
      ]
    },
    {
      "cell_type": "markdown",
      "metadata": {
        "id": "dHRzJ1TNJE6w"
      },
      "source": [
        "###Quiz 6\n",
        "Use a box plot to answer the following question pertaining to the `swiggy_data` dataframe:\n",
        "\n",
        "What is the distribution of expenditure split over different cities?"
      ]
    },
    {
      "cell_type": "code",
      "execution_count": null,
      "metadata": {
        "id": "6QUBR5kwI9ds"
      },
      "outputs": [],
      "source": [
        "### YOUR CODE HERE ###"
      ]
    },
    {
      "cell_type": "markdown",
      "metadata": {
        "id": "XypZtCZvJl-w"
      },
      "source": [
        "###Quiz 7\n",
        "Create a heatmap to show the correlation between `Price`, `Avg ratings`, and `Delivery time` from the `swiggy` dataset."
      ]
    },
    {
      "cell_type": "code",
      "execution_count": null,
      "metadata": {
        "id": "8cj_RWqiJh62"
      },
      "outputs": [],
      "source": [
        "### YOUR CODE HERE ###"
      ]
    },
    {
      "cell_type": "markdown",
      "metadata": {
        "id": "GNR8-dyzKQH0"
      },
      "source": [
        "###Quiz 8\n",
        "Use a pair plot to answer the following question pertaining to the `swiggy_data` dataframe:\n",
        "\n",
        "- Only keeping rows where the Price (expenditure) is greater than $500$.\n",
        "\n",
        "- Only including rows where the Delivery time is less than $45$ minutes (you can adjust this value based on your dataset)."
      ]
    },
    {
      "cell_type": "code",
      "execution_count": null,
      "metadata": {
        "id": "4Wr4zM9dKEpt"
      },
      "outputs": [],
      "source": [
        "### YOUR CODE HERE ###"
      ]
    },
    {
      "cell_type": "markdown",
      "metadata": {
        "id": "P4iTeijqL2MI"
      },
      "source": [
        "###Quiz 9\n",
        "Plot a scatter plot between `Avg ratings` and `Price` in the `swiggy_data` dataframe with markers that are:\n",
        "\n",
        "- Square in shape,\n",
        "\n",
        "- Blue in colour,\n",
        "\n",
        "- size $15$, and\n",
        "\n",
        "- Have $75$ % opacity."
      ]
    },
    {
      "cell_type": "code",
      "execution_count": null,
      "metadata": {
        "id": "qpAX6i3fLGEf"
      },
      "outputs": [],
      "source": [
        "### YOUR CODE HERE ###"
      ]
    },
    {
      "cell_type": "markdown",
      "metadata": {
        "id": "0sRtTvl9M3MW"
      },
      "source": [
        "###Quiz 10\n",
        "Create a bar graph of the average `Price` (average expenditure greater than $1000$) for different `area` in the `swiggy_data` dataframe."
      ]
    },
    {
      "cell_type": "code",
      "execution_count": null,
      "metadata": {
        "id": "KrSCius4ME4y"
      },
      "outputs": [],
      "source": [
        "### YOUR CODE HERE ###"
      ]
    },
    {
      "cell_type": "markdown",
      "metadata": {
        "id": "ea08rQTbQ6mg"
      },
      "source": [
        "###Quiz 11\n",
        "Create a boxplot for the distribution of `Price` (expenditure) in the `swiggy_data` dataframe."
      ]
    },
    {
      "cell_type": "code",
      "execution_count": null,
      "metadata": {
        "id": "rG8yiqRZQ06R"
      },
      "outputs": [],
      "source": [
        "### YOUR CODE HERE ###"
      ]
    },
    {
      "cell_type": "markdown",
      "metadata": {
        "id": "k9kGp2HbUAcy"
      },
      "source": [
        "###Quiz 12\n",
        "Create a pie chart to show the distribution of areas with more than $100$ restaurants in the `swiggy_data` dataframe, labeled by `area` name and `count`, with a legend."
      ]
    },
    {
      "cell_type": "code",
      "execution_count": null,
      "metadata": {
        "id": "_-SdBzVNTAty"
      },
      "outputs": [],
      "source": [
        "### YOUR CODE HERE ###"
      ]
    }
  ],
  "metadata": {
    "colab": {
      "provenance": []
    },
    "kernelspec": {
      "display_name": "Python 3",
      "language": "python",
      "name": "python3"
    },
    "language_info": {
      "codemirror_mode": {
        "name": "ipython",
        "version": 3
      },
      "file_extension": ".py",
      "mimetype": "text/x-python",
      "name": "python",
      "nbconvert_exporter": "python",
      "pygments_lexer": "ipython3",
      "version": "3.12.0"
    }
  },
  "nbformat": 4,
  "nbformat_minor": 0
}
