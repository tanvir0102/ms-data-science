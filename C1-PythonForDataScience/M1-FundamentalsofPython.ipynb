{
 "cells": [
  {
   "cell_type": "markdown",
   "metadata": {},
   "source": [
    "#### Important Libraries for Data Science\n",
    "- NumPy: For numerical operations and array manipulation.\n",
    "- Pandas: For data manipulation and analysis.\n",
    "- Scikit-learn: For machine learning algorithms and tools.\n",
    "- TensorFlow: For building and deploying machine learning models.\n",
    "- PyTorch: Another popular library for deep learning.\n",
    "- Matplotlib: For creating visualizations and plots.\n",
    "- Seaborn: For statistical data visualization.\n",
    "\n",
    "Learning is a Journey and challenges are part of it, so approach it with curiocity.\n"
   ]
  },
  {
   "cell_type": "markdown",
   "metadata": {},
   "source": [
    "#### Computational thinking can be broken down into the following stages\n",
    "1. **Decomposition** or breaking down a complex problem into smaller tasks\n",
    "\n",
    "2. **Pattern recognition** or spotting trends that can aid us in solving our problems\n",
    "\n",
    "3. **Abstraction** or filtering out unnecessary details to focus on key information\n",
    "\n",
    "4. **Algorithm** development or creating a step-by-step procedure to solve a problem"
   ]
  },
  {
   "cell_type": "markdown",
   "metadata": {},
   "source": []
  },
  {
   "cell_type": "markdown",
   "metadata": {},
   "source": [
    "#### Important Links\n",
    "https://learn.microsoft.com/en-us/azure/architecture/data-science-process/overview"
   ]
  },
  {
   "cell_type": "markdown",
   "metadata": {},
   "source": []
  }
 ],
 "metadata": {
  "language_info": {
   "name": "python"
  }
 },
 "nbformat": 4,
 "nbformat_minor": 2
}
