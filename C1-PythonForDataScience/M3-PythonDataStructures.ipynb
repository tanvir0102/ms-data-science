{
 "cells": [
  {
   "cell_type": "markdown",
   "metadata": {},
   "source": [
    "### Data Structure in Python"
   ]
  },
  {
   "cell_type": "markdown",
   "metadata": {},
   "source": [
    "#### String\n",
    "Strings are squence of characters, perfect for storing and manupulating text.\n",
    "#### Lists\n",
    "List are ordered collection of items that allows you to store, access and modify elements by positions.\n",
    "#### Dictionaries\n",
    "#### Tuples\n",
    "immutables\n",
    "\n",
    "#### Sets"
   ]
  },
  {
   "cell_type": "markdown",
   "metadata": {},
   "source": []
  }
 ],
 "metadata": {
  "language_info": {
   "name": "python"
  }
 },
 "nbformat": 4,
 "nbformat_minor": 2
}
