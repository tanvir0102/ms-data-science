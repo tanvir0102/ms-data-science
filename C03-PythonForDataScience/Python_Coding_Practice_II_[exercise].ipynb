{
  "cells": [
    {
      "cell_type": "markdown",
      "metadata": {
        "id": "EmIP7KEV7R4B"
      },
      "source": [
        "### Quiz 1\n",
        "Extract `'EDCBA'` from the string `'AXBXCXDXE'`"
      ]
    },
    {
      "cell_type": "code",
      "execution_count": 2,
      "metadata": {
        "id": "iLLvcOQK7R4B"
      },
      "outputs": [],
      "source": [
        "quiz_string = 'AXBXCXDXE'"
      ]
    },
    {
      "cell_type": "code",
      "execution_count": 3,
      "metadata": {
        "id": "a4Tcu1gYsSPi"
      },
      "outputs": [
        {
          "data": {
            "text/plain": [
              "'EDCBA'"
            ]
          },
          "execution_count": 3,
          "metadata": {},
          "output_type": "execute_result"
        }
      ],
      "source": [
        "### YOUR CODE HERE ###\n",
        "quiz_string[::-2]"
      ]
    },
    {
      "cell_type": "markdown",
      "metadata": {
        "id": "QTiqiKud2Lwb"
      },
      "source": [
        "### Quiz 2\n",
        " Find the length of the string `'Python programming is fun!'` and count the occurrences of `'n'` in the string."
      ]
    },
    {
      "cell_type": "code",
      "execution_count": 4,
      "metadata": {
        "id": "ziQV2RAi2Lwc"
      },
      "outputs": [],
      "source": [
        "quiz_string = 'Python programming is fun!'"
      ]
    },
    {
      "cell_type": "code",
      "execution_count": null,
      "metadata": {
        "id": "oHCxF0jF7ymP"
      },
      "outputs": [],
      "source": [
        "### YOUR CODE HERE ###"
      ]
    },
    {
      "cell_type": "code",
      "execution_count": null,
      "metadata": {
        "id": "DHDtBrJJ2s81"
      },
      "outputs": [],
      "source": [
        "### YOUR CODE HERE ###"
      ]
    },
    {
      "cell_type": "markdown",
      "metadata": {
        "id": "tnvLBxuWDE_D"
      },
      "source": [
        "###Quiz 3\n",
        "\n",
        "Rewrite the following using f-strings:\n",
        "\n",
        "\n",
        "\n",
        "```\n",
        "name = 'Alice'\n",
        "age = 25\n",
        "print('My name is ' + name + ' and I am ' + str(age) + ' years old.')\n",
        "\n",
        "```\n",
        "\n"
      ]
    },
    {
      "cell_type": "code",
      "execution_count": null,
      "metadata": {
        "id": "IPbQ1VULDTVV"
      },
      "outputs": [],
      "source": [
        "### YOUR CODE HERE ###"
      ]
    },
    {
      "cell_type": "markdown",
      "metadata": {
        "id": "JIqWApNCBVEE"
      },
      "source": [
        "###Quiz 4\n",
        "\n",
        "Use the `range()` function to create a list of all odd numbers between $1$ and $20$ (inclusive)."
      ]
    },
    {
      "cell_type": "code",
      "execution_count": null,
      "metadata": {
        "id": "Dwl62ebbBbpM"
      },
      "outputs": [],
      "source": [
        "### YOUR CODE HERE ###"
      ]
    },
    {
      "cell_type": "markdown",
      "metadata": {
        "id": "xbXH6E03Mv10"
      },
      "source": [
        "### Quiz 5\n",
        "Print `45` from the following list: `[1, -1, 0, [[50, 34], [45]], 23]`."
      ]
    },
    {
      "cell_type": "code",
      "execution_count": null,
      "metadata": {
        "id": "ouPb-KQ6M7J1"
      },
      "outputs": [],
      "source": [
        "### YOUR CODE HERE ###"
      ]
    },
    {
      "cell_type": "markdown",
      "metadata": {
        "id": "MdhlUqXrPFWN"
      },
      "source": [
        "### Quiz 6\n",
        "Find the mean of the numbers in the list `[3, 8.5, 2, 11, 6.7, 9, 4.2, 7, 10, 5.5]`.\n",
        "\n",
        "**Hint:** The mean can be calculated by adding all elements in the list and dividing by the length of the list."
      ]
    },
    {
      "cell_type": "code",
      "execution_count": null,
      "metadata": {
        "id": "U2836rX8Pf-i"
      },
      "outputs": [],
      "source": [
        "### YOUR CODE HERE ###"
      ]
    },
    {
      "cell_type": "markdown",
      "metadata": {
        "id": "XSPlsXLIRl6X"
      },
      "source": [
        "### Quiz 7\n",
        "Find the second smallest element in the list `[10, 20, 5, 30, 40, 15]`."
      ]
    },
    {
      "cell_type": "code",
      "execution_count": null,
      "metadata": {
        "id": "EYXttX5dR3Wg"
      },
      "outputs": [],
      "source": [
        "### YOUR CODE HERE ###"
      ]
    },
    {
      "cell_type": "markdown",
      "metadata": {
        "id": "lPeYz4RIOB3_"
      },
      "source": [
        "### Quiz 8\n",
        "Consider the following dictionary that has details about a university student:\n",
        "```\n",
        "university_student = {'student_id': '123456',\n",
        "                      'name': {'first_name': 'Surendar',\n",
        "                               'last_name': 'Dixit'},\n",
        "                      'age': 21,\n",
        "                      'email': 'emma.j@example.com',\n",
        "                      'phone': '555-987-6543',\n",
        "                      'courses': ['Math', 'English', 'Computer Science'],\n",
        "                      'is_international': False}\n",
        "```\n",
        "Extract the first name and age of the student and output these as a new dictionary with just the `first_name` and `age` keys."
      ]
    },
    {
      "cell_type": "code",
      "execution_count": null,
      "metadata": {
        "id": "-RVDw98ROLD9"
      },
      "outputs": [],
      "source": [
        "### YOUR CODE HERE ###"
      ]
    },
    {
      "cell_type": "markdown",
      "metadata": {
        "id": "4wd2U_8fPPXp"
      },
      "source": [
        "### Quiz 9\n",
        "Given the dictionary\n",
        "```\n",
        "university_student = {'name': 'Sonali', 'age': 25, 'email': 'sonali123@mailmail.com'}\n",
        "```\n",
        "Remove the `email` key from this dictionary and add the `address` key with value `Mumbai`. Output the resulting dictionary."
      ]
    },
    {
      "cell_type": "code",
      "execution_count": null,
      "metadata": {
        "id": "4cJV5rh0QgLH"
      },
      "outputs": [],
      "source": [
        "### YOUR CODE HERE ###"
      ]
    },
    {
      "cell_type": "code",
      "execution_count": null,
      "metadata": {
        "id": "uWSbXQR3Q8mH"
      },
      "outputs": [],
      "source": [
        "### YOUR CODE HERE ###"
      ]
    },
    {
      "cell_type": "code",
      "execution_count": null,
      "metadata": {
        "id": "DbuH9BEDRBZB"
      },
      "outputs": [],
      "source": [
        "university_student"
      ]
    },
    {
      "cell_type": "markdown",
      "metadata": {
        "id": "tRBkDW4oRsAM"
      },
      "source": [
        "### Quiz 10\n",
        "Given the dictionary\n",
        "```\n",
        "daily_sales = {'mon': 0, 'tue': 1, 'wed': 3, 'thu': 5, 'fri': 3}\n",
        "```\n",
        "Find the total number of sales, the day with the most sales and the day with the least sales made during the week."
      ]
    },
    {
      "cell_type": "code",
      "execution_count": null,
      "metadata": {
        "id": "HOZIzBsVSkz5"
      },
      "outputs": [],
      "source": [
        "### YOUR CODE HERE ###"
      ]
    },
    {
      "cell_type": "code",
      "execution_count": null,
      "metadata": {
        "id": "7jnAOYScSsBm"
      },
      "outputs": [],
      "source": [
        "### YOUR CODE HERE ###"
      ]
    },
    {
      "cell_type": "code",
      "execution_count": null,
      "metadata": {
        "id": "tJZX8jl2S3oq"
      },
      "outputs": [],
      "source": [
        "### YOUR CODE HERE ###"
      ]
    },
    {
      "cell_type": "markdown",
      "metadata": {
        "id": "cqdHBUhqv7SV"
      },
      "source": [
        "##Quiz 11"
      ]
    },
    {
      "cell_type": "markdown",
      "metadata": {
        "id": "6vCqyk23v_8h"
      },
      "source": [
        "Find the unique values in this list.\n",
        "\n",
        "```\n",
        "numbers = [1, 2, 3, 2, 1, 4, 5]\n",
        "```\n",
        "\n"
      ]
    },
    {
      "cell_type": "code",
      "execution_count": null,
      "metadata": {
        "id": "WmoUWkYhv9QZ"
      },
      "outputs": [],
      "source": [
        "### YOUR CODE HERE ###"
      ]
    }
  ],
  "metadata": {
    "colab": {
      "provenance": []
    },
    "kernelspec": {
      "display_name": "venv",
      "language": "python",
      "name": "python3"
    },
    "language_info": {
      "codemirror_mode": {
        "name": "ipython",
        "version": 3
      },
      "file_extension": ".py",
      "mimetype": "text/x-python",
      "name": "python",
      "nbconvert_exporter": "python",
      "pygments_lexer": "ipython3",
      "version": "3.12.0"
    }
  },
  "nbformat": 4,
  "nbformat_minor": 0
}
