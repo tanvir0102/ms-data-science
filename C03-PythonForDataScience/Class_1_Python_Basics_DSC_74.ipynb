{
  "cells": [
    {
      "cell_type": "markdown",
      "id": "3671e7e2-effc-4a69-b4cc-d4c2046e2601",
      "metadata": {
        "id": "3671e7e2-effc-4a69-b4cc-d4c2046e2601"
      },
      "source": [
        "## Basics of Python - DSC 74 ##"
      ]
    },
    {
      "cell_type": "code",
      "execution_count": null,
      "id": "e6c53609-0586-4e87-8d5f-d5b794c3b467",
      "metadata": {
        "id": "e6c53609-0586-4e87-8d5f-d5b794c3b467"
      },
      "outputs": [],
      "source": [
        "#Python - Flask or Django\n",
        "# We can desktop application - Tkinter\n",
        "# Data Analytics or data science task\n",
        "# Machine Learning / AI Tasks\n",
        "#Network application\n",
        "#IoT application\n",
        "#Automations\n",
        "#Games\n",
        "#print('Hi')\n",
        "#Drawbacks\n",
        "#Cannot create the mobile applications\n",
        "#Python is slow programming (We can integrate Python with other programming languages)"
      ]
    },
    {
      "cell_type": "code",
      "execution_count": null,
      "id": "4937b5c3-8f76-43fb-b9ae-4693767c1a7f",
      "metadata": {
        "id": "4937b5c3-8f76-43fb-b9ae-4693767c1a7f"
      },
      "outputs": [],
      "source": [
        "#Python - 3.x\n",
        "#3.13.1"
      ]
    },
    {
      "cell_type": "code",
      "execution_count": null,
      "id": "e6c57438-a88e-4c0d-b4a9-efc56c5d6aee",
      "metadata": {
        "id": "e6c57438-a88e-4c0d-b4a9-efc56c5d6aee"
      },
      "outputs": [],
      "source": [
        "#Python 1\n",
        "#Python 2 - 2020\n",
        "#Python 3"
      ]
    },
    {
      "cell_type": "code",
      "execution_count": null,
      "id": "2d68b841-045f-4396-ad50-d9a3d9ad67f8",
      "metadata": {
        "id": "2d68b841-045f-4396-ad50-d9a3d9ad67f8"
      },
      "outputs": [],
      "source": [
        "Python 3 - Python 2"
      ]
    },
    {
      "cell_type": "code",
      "execution_count": null,
      "id": "a30f959b-00c6-47e3-8f28-42aa350283da",
      "metadata": {
        "id": "a30f959b-00c6-47e3-8f28-42aa350283da",
        "outputId": "86e4da6e-a0c0-424d-a074-e5f3f501297f"
      },
      "outputs": [
        {
          "name": "stdout",
          "output_type": "stream",
          "text": [
            "rahul\n"
          ]
        }
      ],
      "source": [
        "print('rahul')"
      ]
    },
    {
      "cell_type": "code",
      "execution_count": null,
      "id": "7839c2eb-e204-4cb0-9683-80cca1b61c5c",
      "metadata": {
        "id": "7839c2eb-e204-4cb0-9683-80cca1b61c5c"
      },
      "outputs": [],
      "source": [
        "a = 10"
      ]
    },
    {
      "cell_type": "code",
      "execution_count": null,
      "id": "445bc1d5-b1ef-4a84-8f39-89d05e644534",
      "metadata": {
        "id": "445bc1d5-b1ef-4a84-8f39-89d05e644534",
        "outputId": "46774b4d-550a-4974-f037-6e71e7bea2ff"
      },
      "outputs": [
        {
          "data": {
            "text/plain": [
              "10"
            ]
          },
          "execution_count": 9,
          "metadata": {},
          "output_type": "execute_result"
        }
      ],
      "source": [
        "a"
      ]
    },
    {
      "cell_type": "code",
      "execution_count": null,
      "id": "59944a18-a006-4094-90a5-aea82353cdcc",
      "metadata": {
        "id": "59944a18-a006-4094-90a5-aea82353cdcc"
      },
      "outputs": [],
      "source": [
        "#Identifiers / Variable name\n",
        "studentname = 'Harsh'"
      ]
    },
    {
      "cell_type": "code",
      "execution_count": null,
      "id": "dc4353c3-2fb0-49bf-9af8-058434a27941",
      "metadata": {
        "id": "dc4353c3-2fb0-49bf-9af8-058434a27941",
        "outputId": "b1da9e1f-e21e-488f-d8e9-9d44f2678ca0"
      },
      "outputs": [
        {
          "data": {
            "text/plain": [
              "'Harsh'"
            ]
          },
          "execution_count": 41,
          "metadata": {},
          "output_type": "execute_result"
        }
      ],
      "source": [
        "studentname"
      ]
    },
    {
      "cell_type": "code",
      "execution_count": null,
      "id": "48673231-2543-444c-b907-1ac93eb99da9",
      "metadata": {
        "id": "48673231-2543-444c-b907-1ac93eb99da9"
      },
      "outputs": [],
      "source": [
        "#Alphabets it can caps or it can be small - I can use alphabets anywhere in the identifier\n",
        "#The only special character which I can use is _ (underscore) - I can use underscore in any place\n",
        "#We can use numbers as well - numbers cannot be at the start"
      ]
    },
    {
      "cell_type": "code",
      "execution_count": null,
      "id": "9dbc1d47-7abc-4102-834f-309d02d03f8c",
      "metadata": {
        "id": "9dbc1d47-7abc-4102-834f-309d02d03f8c"
      },
      "outputs": [],
      "source": [
        "student_name = 'Harsh'\n",
        "STUDENTNAME = 'Gagan'"
      ]
    },
    {
      "cell_type": "code",
      "execution_count": null,
      "id": "43d2d599-1057-4830-adf2-2e0777cdcd7c",
      "metadata": {
        "id": "43d2d599-1057-4830-adf2-2e0777cdcd7c",
        "outputId": "91c25471-f9b5-466c-fbc4-12e1980217b3"
      },
      "outputs": [
        {
          "data": {
            "text/plain": [
              "'Harsh'"
            ]
          },
          "execution_count": 51,
          "metadata": {},
          "output_type": "execute_result"
        }
      ],
      "source": [
        "student_name"
      ]
    },
    {
      "cell_type": "code",
      "execution_count": null,
      "id": "dcc7060a-debf-4188-9504-fb442a3e0e1f",
      "metadata": {
        "id": "dcc7060a-debf-4188-9504-fb442a3e0e1f",
        "outputId": "3fb9799c-a6c6-4374-e156-279ab09dd6be"
      },
      "outputs": [
        {
          "data": {
            "text/plain": [
              "'Gagan'"
            ]
          },
          "execution_count": 47,
          "metadata": {},
          "output_type": "execute_result"
        }
      ],
      "source": [
        "STUDENTNAME"
      ]
    },
    {
      "cell_type": "code",
      "execution_count": null,
      "id": "cf2a617b-1a35-465a-8bec-18b670da5feb",
      "metadata": {
        "id": "cf2a617b-1a35-465a-8bec-18b670da5feb"
      },
      "outputs": [],
      "source": [
        "_studentname = ''\n",
        "s_tudentname = ''\n",
        "student_name = ''\n",
        "studentname_ = ''"
      ]
    },
    {
      "cell_type": "code",
      "execution_count": null,
      "id": "1a1386e3-42d4-4a82-9b4a-520b9b46fcca",
      "metadata": {
        "id": "1a1386e3-42d4-4a82-9b4a-520b9b46fcca",
        "outputId": "4ef91270-dd7c-4adf-cb5d-41d0bd462907"
      },
      "outputs": [
        {
          "ename": "SyntaxError",
          "evalue": "invalid decimal literal (2413946481.py, line 1)",
          "output_type": "error",
          "traceback": [
            "\u001b[1;36m  Cell \u001b[1;32mIn[59], line 1\u001b[1;36m\u001b[0m\n\u001b[1;33m    123stundename = 'Rahul'\u001b[0m\n\u001b[1;37m      ^\u001b[0m\n\u001b[1;31mSyntaxError\u001b[0m\u001b[1;31m:\u001b[0m invalid decimal literal\n"
          ]
        }
      ],
      "source": [
        "123stundename = 'Rahul'"
      ]
    },
    {
      "cell_type": "code",
      "execution_count": null,
      "id": "d6291fb1-d6b2-4cff-b431-e57914a97ba9",
      "metadata": {
        "id": "d6291fb1-d6b2-4cff-b431-e57914a97ba9"
      },
      "outputs": [],
      "source": [
        "studentname123 = 'Rahul'"
      ]
    },
    {
      "cell_type": "code",
      "execution_count": null,
      "id": "c6294ea9-b3cf-4d90-8edc-d4802d83569e",
      "metadata": {
        "id": "c6294ea9-b3cf-4d90-8edc-d4802d83569e"
      },
      "outputs": [],
      "source": [
        "student123name = 'Rohit'"
      ]
    },
    {
      "cell_type": "code",
      "execution_count": null,
      "id": "2af43f20-e21d-47be-97f5-b45b51e85602",
      "metadata": {
        "id": "2af43f20-e21d-47be-97f5-b45b51e85602"
      },
      "outputs": [],
      "source": [
        "s1tudentname = 'Atharv'"
      ]
    },
    {
      "cell_type": "code",
      "execution_count": null,
      "id": "fc6725d1-ba0a-42b8-ab57-6036790b78ab",
      "metadata": {
        "id": "fc6725d1-ba0a-42b8-ab57-6036790b78ab",
        "outputId": "3e8aecd6-5282-4f13-b908-14f099a406a0"
      },
      "outputs": [
        {
          "ename": "SyntaxError",
          "evalue": "invalid syntax (3458490339.py, line 1)",
          "output_type": "error",
          "traceback": [
            "\u001b[1;36m  Cell \u001b[1;32mIn[67], line 1\u001b[1;36m\u001b[0m\n\u001b[1;33m    for = 'Rahul'\u001b[0m\n\u001b[1;37m        ^\u001b[0m\n\u001b[1;31mSyntaxError\u001b[0m\u001b[1;31m:\u001b[0m invalid syntax\n"
          ]
        }
      ],
      "source": [
        "for = 'Rahul'"
      ]
    },
    {
      "cell_type": "code",
      "execution_count": null,
      "id": "c163dd15-ebd3-4e3f-86f6-d604d3405dcf",
      "metadata": {
        "id": "c163dd15-ebd3-4e3f-86f6-d604d3405dcf",
        "outputId": "e7788890-15a7-412c-f33d-946ce62d6849"
      },
      "outputs": [
        {
          "data": {
            "text/plain": [
              "['False',\n",
              " 'None',\n",
              " 'True',\n",
              " 'and',\n",
              " 'as',\n",
              " 'assert',\n",
              " 'async',\n",
              " 'await',\n",
              " 'break',\n",
              " 'class',\n",
              " 'continue',\n",
              " 'def',\n",
              " 'del',\n",
              " 'elif',\n",
              " 'else',\n",
              " 'except',\n",
              " 'finally',\n",
              " 'for',\n",
              " 'from',\n",
              " 'global',\n",
              " 'if',\n",
              " 'import',\n",
              " 'in',\n",
              " 'is',\n",
              " 'lambda',\n",
              " 'nonlocal',\n",
              " 'not',\n",
              " 'or',\n",
              " 'pass',\n",
              " 'raise',\n",
              " 'return',\n",
              " 'try',\n",
              " 'while',\n",
              " 'with',\n",
              " 'yield']"
            ]
          },
          "execution_count": 73,
          "metadata": {},
          "output_type": "execute_result"
        }
      ],
      "source": [
        "import keyword\n",
        "keyword.kwlist"
      ]
    },
    {
      "cell_type": "code",
      "execution_count": null,
      "id": "6655593e-d1c2-46e0-896c-a25387693e6d",
      "metadata": {
        "id": "6655593e-d1c2-46e0-896c-a25387693e6d"
      },
      "outputs": [],
      "source": [
        "false = 'Rahul'"
      ]
    },
    {
      "cell_type": "code",
      "execution_count": null,
      "id": "ddb415c3-0869-43a2-bcda-c1d578891bd7",
      "metadata": {
        "id": "ddb415c3-0869-43a2-bcda-c1d578891bd7",
        "outputId": "7eb5be37-0460-47a6-d169-d0883a80ea64"
      },
      "outputs": [
        {
          "data": {
            "text/plain": [
              "'Rahul'"
            ]
          },
          "execution_count": 79,
          "metadata": {},
          "output_type": "execute_result"
        }
      ],
      "source": [
        "false"
      ]
    },
    {
      "cell_type": "code",
      "execution_count": null,
      "id": "13112794-5b10-42f9-9a56-9eb9c5cabbfd",
      "metadata": {
        "id": "13112794-5b10-42f9-9a56-9eb9c5cabbfd",
        "outputId": "eae602ca-af6b-469b-fc4d-56e3cb7d795f"
      },
      "outputs": [
        {
          "ename": "NameError",
          "evalue": "name 'Bicycle' is not defined",
          "output_type": "error",
          "traceback": [
            "\u001b[1;31m---------------------------------------------------------------------------\u001b[0m",
            "\u001b[1;31mNameError\u001b[0m                                 Traceback (most recent call last)",
            "Cell \u001b[1;32mIn[81], line 1\u001b[0m\n\u001b[1;32m----> 1\u001b[0m productname \u001b[38;5;241m=\u001b[39m Bicycle\n",
            "\u001b[1;31mNameError\u001b[0m: name 'Bicycle' is not defined"
          ]
        }
      ],
      "source": [
        "productname = Bicycle"
      ]
    },
    {
      "cell_type": "code",
      "execution_count": null,
      "id": "c39a4dc3-4760-4f32-9387-8cd922e8d5ea",
      "metadata": {
        "id": "c39a4dc3-4760-4f32-9387-8cd922e8d5ea"
      },
      "outputs": [],
      "source": [
        "bicycle = 'TVS'"
      ]
    },
    {
      "cell_type": "code",
      "execution_count": null,
      "id": "3dcd5021-d23d-4da5-a121-44fc4a7c21d5",
      "metadata": {
        "id": "3dcd5021-d23d-4da5-a121-44fc4a7c21d5",
        "outputId": "1fbf7e95-b778-48df-95d5-597a442e055d"
      },
      "outputs": [
        {
          "data": {
            "text/plain": [
              "'TVS'"
            ]
          },
          "execution_count": 85,
          "metadata": {},
          "output_type": "execute_result"
        }
      ],
      "source": [
        "bicycle"
      ]
    },
    {
      "cell_type": "code",
      "execution_count": null,
      "id": "63ac1c4b-aa5d-4d7b-a2a6-f7732814d2c6",
      "metadata": {
        "id": "63ac1c4b-aa5d-4d7b-a2a6-f7732814d2c6"
      },
      "outputs": [],
      "source": [
        "productname = bicycle"
      ]
    },
    {
      "cell_type": "code",
      "execution_count": null,
      "id": "080c9143-3b65-4c2a-bf0c-5e8e7fc595fb",
      "metadata": {
        "id": "080c9143-3b65-4c2a-bf0c-5e8e7fc595fb",
        "outputId": "cea1c9fa-ae83-438b-d019-db4008c14e08"
      },
      "outputs": [
        {
          "data": {
            "text/plain": [
              "'TVS'"
            ]
          },
          "execution_count": 89,
          "metadata": {},
          "output_type": "execute_result"
        }
      ],
      "source": [
        "productname"
      ]
    },
    {
      "cell_type": "code",
      "execution_count": null,
      "id": "d81e9a88-188e-4796-bf93-c087b510340b",
      "metadata": {
        "id": "d81e9a88-188e-4796-bf93-c087b510340b"
      },
      "outputs": [],
      "source": [
        "productname = \"123\""
      ]
    },
    {
      "cell_type": "code",
      "execution_count": null,
      "id": "edf77842-e59a-4b4a-b743-cf8f442f4737",
      "metadata": {
        "id": "edf77842-e59a-4b4a-b743-cf8f442f4737",
        "outputId": "9c0d76d8-234f-4aba-d895-43f3f8ba2f46"
      },
      "outputs": [
        {
          "data": {
            "text/plain": [
              "str"
            ]
          },
          "execution_count": 111,
          "metadata": {},
          "output_type": "execute_result"
        }
      ],
      "source": [
        "type(productname)"
      ]
    },
    {
      "cell_type": "code",
      "execution_count": null,
      "id": "6b5a8837-a260-4e25-ac10-45b893720970",
      "metadata": {
        "id": "6b5a8837-a260-4e25-ac10-45b893720970"
      },
      "outputs": [],
      "source": [
        "#Python is a dynamically typed programming language"
      ]
    },
    {
      "cell_type": "code",
      "execution_count": null,
      "id": "5b07b727-4f5b-4839-aa1d-54e5833f87c4",
      "metadata": {
        "id": "5b07b727-4f5b-4839-aa1d-54e5833f87c4",
        "outputId": "86782103-8dcb-49dd-8f99-e7b1f981e166"
      },
      "outputs": [
        {
          "data": {
            "text/plain": [
              "int"
            ]
          },
          "execution_count": 115,
          "metadata": {},
          "output_type": "execute_result"
        }
      ],
      "source": [
        "quantity = 10\n",
        "type(quantity)"
      ]
    },
    {
      "cell_type": "code",
      "execution_count": null,
      "id": "e9c70a29-8487-4d45-ac58-1cc0c7d6df07",
      "metadata": {
        "id": "e9c70a29-8487-4d45-ac58-1cc0c7d6df07",
        "outputId": "b3927901-4e92-455e-b62e-47cc445b53fe"
      },
      "outputs": [
        {
          "data": {
            "text/plain": [
              "10"
            ]
          },
          "execution_count": 117,
          "metadata": {},
          "output_type": "execute_result"
        }
      ],
      "source": [
        "quantity"
      ]
    },
    {
      "cell_type": "code",
      "execution_count": null,
      "id": "98469e1f-4053-4ac5-9ec4-0683c84fd55a",
      "metadata": {
        "id": "98469e1f-4053-4ac5-9ec4-0683c84fd55a",
        "outputId": "a94d332f-0375-46a1-d256-d538396bd0f8"
      },
      "outputs": [
        {
          "data": {
            "text/plain": [
              "float"
            ]
          },
          "execution_count": 119,
          "metadata": {},
          "output_type": "execute_result"
        }
      ],
      "source": [
        "sales = 10.5\n",
        "type(sales)"
      ]
    },
    {
      "cell_type": "code",
      "execution_count": null,
      "id": "aefb5835-7c9b-404b-ab70-5a7a37c21182",
      "metadata": {
        "id": "aefb5835-7c9b-404b-ab70-5a7a37c21182"
      },
      "outputs": [],
      "source": [
        "output = sales>5"
      ]
    },
    {
      "cell_type": "code",
      "execution_count": null,
      "id": "b4564219-b640-40f7-8d45-feb2c6ad0475",
      "metadata": {
        "id": "b4564219-b640-40f7-8d45-feb2c6ad0475",
        "outputId": "57759e2e-ea10-49ec-a063-a12e0d5ec03c"
      },
      "outputs": [
        {
          "data": {
            "text/plain": [
              "bool"
            ]
          },
          "execution_count": 127,
          "metadata": {},
          "output_type": "execute_result"
        }
      ],
      "source": [
        "type(output)"
      ]
    },
    {
      "cell_type": "code",
      "execution_count": null,
      "id": "28a28732-62d9-4007-b1d4-a7848625a3b1",
      "metadata": {
        "id": "28a28732-62d9-4007-b1d4-a7848625a3b1"
      },
      "outputs": [],
      "source": [
        "data = None"
      ]
    },
    {
      "cell_type": "code",
      "execution_count": null,
      "id": "2b8b227b-da41-4e25-8831-6f24e884e739",
      "metadata": {
        "id": "2b8b227b-da41-4e25-8831-6f24e884e739",
        "outputId": "fc7169ee-5892-4e0d-8239-e1a9d5cea83c"
      },
      "outputs": [
        {
          "data": {
            "text/plain": [
              "NoneType"
            ]
          },
          "execution_count": 131,
          "metadata": {},
          "output_type": "execute_result"
        }
      ],
      "source": [
        "type(data)"
      ]
    },
    {
      "cell_type": "code",
      "execution_count": null,
      "id": "d50c696b-4740-4b6d-8d9a-dacc1b79ccba",
      "metadata": {
        "id": "d50c696b-4740-4b6d-8d9a-dacc1b79ccba",
        "outputId": "f0d19def-6ef9-4518-d41e-04c1faac4ae3"
      },
      "outputs": [
        {
          "name": "stdin",
          "output_type": "stream",
          "text": [
            "Enter the marks you got:  45\n"
          ]
        },
        {
          "name": "stdout",
          "output_type": "stream",
          "text": [
            "45.0\n",
            "<class 'float'>\n"
          ]
        }
      ],
      "source": [
        "marks = float(input('Enter the marks you got: '))\n",
        "#marks = int(marks)\n",
        "print(marks)\n",
        "print(type(marks))"
      ]
    },
    {
      "cell_type": "code",
      "execution_count": null,
      "id": "ed0de4c2-2577-41ab-88a8-994223ed9e4d",
      "metadata": {
        "id": "ed0de4c2-2577-41ab-88a8-994223ed9e4d"
      },
      "outputs": [],
      "source": [
        "name = 'Rahul'"
      ]
    },
    {
      "cell_type": "code",
      "execution_count": null,
      "id": "471ba620-1d6b-485e-8a14-05321b215452",
      "metadata": {
        "id": "471ba620-1d6b-485e-8a14-05321b215452",
        "outputId": "dc31ae16-f836-40c5-a60e-525eb9a1d1f9"
      },
      "outputs": [
        {
          "name": "stdout",
          "output_type": "stream",
          "text": [
            "Rahul\n"
          ]
        }
      ],
      "source": [
        "print(name)"
      ]
    },
    {
      "cell_type": "code",
      "execution_count": null,
      "id": "aba55faa-7ae3-4188-8bf6-4b5fed91d80b",
      "metadata": {
        "id": "aba55faa-7ae3-4188-8bf6-4b5fed91d80b",
        "outputId": "29cdd185-c201-403e-a41c-6e968c186a6e"
      },
      "outputs": [
        {
          "name": "stdout",
          "output_type": "stream",
          "text": [
            "Hi rahul Hello rahul How are you\n"
          ]
        }
      ],
      "source": [
        "print('Hi',end=\" rahul \"  )\n",
        "print('Hello',end= ' rahul ')\n",
        "print('How are you')"
      ]
    },
    {
      "cell_type": "code",
      "execution_count": null,
      "id": "f5737ef7-e581-4f4d-bc46-b9b986ed9447",
      "metadata": {
        "id": "f5737ef7-e581-4f4d-bc46-b9b986ed9447",
        "outputId": "73a50e5c-da94-421b-cce2-80bcd329ad6c"
      },
      "outputs": [
        {
          "name": "stdout",
          "output_type": "stream",
          "text": [
            "Hi Hello How are you\n"
          ]
        }
      ],
      "source": [
        "print('Hi', 'Hello', 'How are you')"
      ]
    },
    {
      "cell_type": "code",
      "execution_count": null,
      "id": "196987f8-116d-403f-900b-1f60b061544e",
      "metadata": {
        "id": "196987f8-116d-403f-900b-1f60b061544e",
        "outputId": "c619b062-bd10-4cb9-ce99-c4a565ad2ccc"
      },
      "outputs": [
        {
          "name": "stdout",
          "output_type": "stream",
          "text": [
            "0 rahul 10 rahul 20 rahul 30\n"
          ]
        }
      ],
      "source": [
        "print(0,10,20,30,sep=' rahul ')"
      ]
    },
    {
      "cell_type": "code",
      "execution_count": null,
      "id": "3e633b17-d663-4c83-8936-e34d9dd1bb91",
      "metadata": {
        "id": "3e633b17-d663-4c83-8936-e34d9dd1bb91"
      },
      "outputs": [],
      "source": [
        "#Operators in Python"
      ]
    },
    {
      "cell_type": "code",
      "execution_count": null,
      "id": "2eccd97b-75da-47fd-840e-093206800bdb",
      "metadata": {
        "id": "2eccd97b-75da-47fd-840e-093206800bdb"
      },
      "outputs": [],
      "source": [
        "#Artihmatic\n",
        "#Relational or comparision\n",
        "#logical\n",
        "#equality\n",
        "#assignemnt\n",
        "#special"
      ]
    },
    {
      "cell_type": "code",
      "execution_count": null,
      "id": "f2f9c788-6cd6-4a4a-a9a8-d8e8e20cb49e",
      "metadata": {
        "id": "f2f9c788-6cd6-4a4a-a9a8-d8e8e20cb49e"
      },
      "outputs": [],
      "source": [
        "+\n",
        "-\n",
        "*\n",
        "/\n",
        "//\n",
        "%\n",
        "**"
      ]
    },
    {
      "cell_type": "code",
      "execution_count": null,
      "id": "9a7ca165-e719-42a5-91ec-697d7618e3bb",
      "metadata": {
        "id": "9a7ca165-e719-42a5-91ec-697d7618e3bb",
        "outputId": "97fd3955-5f17-4241-a941-6131b7da7d96"
      },
      "outputs": [
        {
          "name": "stdout",
          "output_type": "stream",
          "text": [
            "13.3\n",
            "6.7\n",
            "33.0\n",
            "3.0303030303030303\n",
            "3.0\n",
            "0.10000000000000053\n",
            "1995.2623149688789\n"
          ]
        }
      ],
      "source": [
        "a = 10\n",
        "b = 3.3\n",
        "print(a+b)\n",
        "print(a-b)\n",
        "print(a*b)\n",
        "print(a/b)\n",
        "print(a//b)\n",
        "print(a%b)\n",
        "print(a**b)"
      ]
    },
    {
      "cell_type": "code",
      "execution_count": null,
      "id": "daa47983-df9c-4057-ae61-248318b45685",
      "metadata": {
        "id": "daa47983-df9c-4057-ae61-248318b45685",
        "outputId": "ba0d13e6-211b-47b7-c1ca-49e65dfb2b9a"
      },
      "outputs": [
        {
          "data": {
            "text/plain": [
              "30"
            ]
          },
          "execution_count": 217,
          "metadata": {},
          "output_type": "execute_result"
        }
      ],
      "source": [
        "a = int('10')\n",
        "b = int('20')\n",
        "a+b"
      ]
    },
    {
      "cell_type": "code",
      "execution_count": null,
      "id": "576360c4-4f18-4367-a81f-b9424291ae70",
      "metadata": {
        "id": "576360c4-4f18-4367-a81f-b9424291ae70",
        "outputId": "b79a773f-13ce-4b0c-e689-dc21ae37d337"
      },
      "outputs": [
        {
          "name": "stdout",
          "output_type": "stream",
          "text": [
            "False\n",
            "True\n",
            "False\n",
            "True\n"
          ]
        }
      ],
      "source": [
        "a = 10\n",
        "b = 3\n",
        "print(a<b)\n",
        "print(a>b)\n",
        "print(a<=b)\n",
        "print(a>=b)"
      ]
    },
    {
      "cell_type": "code",
      "execution_count": null,
      "id": "6c3ddb8a-d4d6-4b16-8a3a-a99b71acc320",
      "metadata": {
        "id": "6c3ddb8a-d4d6-4b16-8a3a-a99b71acc320",
        "outputId": "47f45677-48c6-4198-df6e-3bbb7cdc609d"
      },
      "outputs": [
        {
          "ename": "ValueError",
          "evalue": "invalid literal for int() with base 10: 'rahul'",
          "output_type": "error",
          "traceback": [
            "\u001b[1;31m---------------------------------------------------------------------------\u001b[0m",
            "\u001b[1;31mValueError\u001b[0m                                Traceback (most recent call last)",
            "Cell \u001b[1;32mIn[221], line 1\u001b[0m\n\u001b[1;32m----> 1\u001b[0m a \u001b[38;5;241m=\u001b[39m \u001b[38;5;28mint\u001b[39m(\u001b[38;5;124m'\u001b[39m\u001b[38;5;124mrahul\u001b[39m\u001b[38;5;124m'\u001b[39m)\n",
            "\u001b[1;31mValueError\u001b[0m: invalid literal for int() with base 10: 'rahul'"
          ]
        }
      ],
      "source": [
        "a = int('rahul')"
      ]
    },
    {
      "cell_type": "code",
      "execution_count": null,
      "id": "b50e41c8-70e8-4aff-8eb6-c78fdb65cdbe",
      "metadata": {
        "id": "b50e41c8-70e8-4aff-8eb6-c78fdb65cdbe",
        "outputId": "5274ccfa-ad65-4955-c4fa-b3859376a1cc"
      },
      "outputs": [
        {
          "data": {
            "text/plain": [
              "True"
            ]
          },
          "execution_count": 223,
          "metadata": {},
          "output_type": "execute_result"
        }
      ],
      "source": [
        "a = 10\n",
        "b = 3\n",
        "a<b\n",
        "a>b\n",
        "a<=b\n",
        "a>=b"
      ]
    },
    {
      "cell_type": "code",
      "execution_count": null,
      "id": "5373b7a3-8bbf-41ae-bbef-eb5455b8634f",
      "metadata": {
        "id": "5373b7a3-8bbf-41ae-bbef-eb5455b8634f",
        "outputId": "396e0486-fe72-4fe0-8d45-9204a5f0c180"
      },
      "outputs": [
        {
          "data": {
            "text/plain": [
              "True"
            ]
          },
          "execution_count": 227,
          "metadata": {},
          "output_type": "execute_result"
        }
      ],
      "source": [
        "a = 10\n",
        "b = 20\n",
        "a == b\n",
        "a!=b"
      ]
    },
    {
      "cell_type": "code",
      "execution_count": null,
      "id": "ab93b260-ea7c-4bea-97ad-bec32c1e637f",
      "metadata": {
        "id": "ab93b260-ea7c-4bea-97ad-bec32c1e637f"
      },
      "outputs": [],
      "source": [
        "#Logical operators"
      ]
    },
    {
      "cell_type": "code",
      "execution_count": null,
      "id": "7e08edd1-13f1-4648-9f78-d94ea0a7309e",
      "metadata": {
        "id": "7e08edd1-13f1-4648-9f78-d94ea0a7309e",
        "outputId": "05d4ada6-8b9a-46c7-c3e3-2578d6cc7b3a"
      },
      "outputs": [
        {
          "data": {
            "text/plain": [
              "False"
            ]
          },
          "execution_count": 237,
          "metadata": {},
          "output_type": "execute_result"
        }
      ],
      "source": [
        "a = 10\n",
        "b = 5\n",
        "c = 4\n",
        "d = 12\n",
        "\n",
        "not(a>b or c>d)"
      ]
    },
    {
      "cell_type": "code",
      "execution_count": null,
      "id": "99054288-38dd-4da5-b426-54045a19e74c",
      "metadata": {
        "id": "99054288-38dd-4da5-b426-54045a19e74c"
      },
      "outputs": [],
      "source": [
        "#assignment"
      ]
    },
    {
      "cell_type": "code",
      "execution_count": null,
      "id": "3caa15f9-8377-4aa1-9320-6cd5d40db610",
      "metadata": {
        "id": "3caa15f9-8377-4aa1-9320-6cd5d40db610",
        "outputId": "f4e67de2-f7b4-4988-89c6-a3aba7749634"
      },
      "outputs": [
        {
          "data": {
            "text/plain": [
              "-10"
            ]
          },
          "execution_count": 245,
          "metadata": {},
          "output_type": "execute_result"
        }
      ],
      "source": [
        "a = 10\n",
        "a = a - 20\n",
        "a"
      ]
    },
    {
      "cell_type": "code",
      "execution_count": null,
      "id": "ba426a4d-beec-434a-9df0-2236c37e1468",
      "metadata": {
        "id": "ba426a4d-beec-434a-9df0-2236c37e1468",
        "outputId": "48ca2512-8b71-4798-9c53-e51d542e749d"
      },
      "outputs": [
        {
          "data": {
            "text/plain": [
              "30"
            ]
          },
          "execution_count": 251,
          "metadata": {},
          "output_type": "execute_result"
        }
      ],
      "source": [
        "a = 10\n",
        "a += 20\n",
        "a"
      ]
    },
    {
      "cell_type": "code",
      "execution_count": null,
      "id": "faba88de-a3c2-46bd-9c8c-40b7e8c8b991",
      "metadata": {
        "id": "faba88de-a3c2-46bd-9c8c-40b7e8c8b991"
      },
      "outputs": [],
      "source": [
        "#Special operators\n",
        "\n",
        "    #Membership Operators\n",
        "        #in\n",
        "        # not in\n",
        "    #Identity Operators\n",
        "\n",
        "        #is\n",
        "        #is not"
      ]
    },
    {
      "cell_type": "code",
      "execution_count": null,
      "id": "167da0de-864b-4bfe-84c0-f47adace1965",
      "metadata": {
        "id": "167da0de-864b-4bfe-84c0-f47adace1965",
        "outputId": "f665fcd7-d718-4007-c95f-c73cc45b6476"
      },
      "outputs": [
        {
          "data": {
            "text/plain": [
              "True"
            ]
          },
          "execution_count": 257,
          "metadata": {},
          "output_type": "execute_result"
        }
      ],
      "source": [
        "name = 'Rahul'\n",
        "'R' in name"
      ]
    },
    {
      "cell_type": "code",
      "execution_count": null,
      "id": "4e7c3fa7-b4f0-4799-9a80-6880ab791416",
      "metadata": {
        "id": "4e7c3fa7-b4f0-4799-9a80-6880ab791416"
      },
      "outputs": [],
      "source": [
        "city = ['Surat', 'Delhi', 'Gurgaon', 'Chennai']"
      ]
    },
    {
      "cell_type": "code",
      "execution_count": null,
      "id": "62544405-3603-4ab4-824e-2d0fce3440a1",
      "metadata": {
        "id": "62544405-3603-4ab4-824e-2d0fce3440a1",
        "outputId": "bf774020-8f38-4462-b5d5-667eb2b9f189"
      },
      "outputs": [
        {
          "data": {
            "text/plain": [
              "list"
            ]
          },
          "execution_count": 261,
          "metadata": {},
          "output_type": "execute_result"
        }
      ],
      "source": [
        "type(city)"
      ]
    },
    {
      "cell_type": "code",
      "execution_count": null,
      "id": "8611f891-4c0a-4dad-aa85-1eb245503d86",
      "metadata": {
        "id": "8611f891-4c0a-4dad-aa85-1eb245503d86",
        "outputId": "79fab026-8aff-43da-c115-dc0912945f93"
      },
      "outputs": [
        {
          "data": {
            "text/plain": [
              "['Surat', 'Delhi', 'Gurgaon', 'Chennai']"
            ]
          },
          "execution_count": 263,
          "metadata": {},
          "output_type": "execute_result"
        }
      ],
      "source": [
        "city"
      ]
    },
    {
      "cell_type": "code",
      "execution_count": null,
      "id": "0c424c57-eee1-441e-888e-b2350bf03471",
      "metadata": {
        "id": "0c424c57-eee1-441e-888e-b2350bf03471",
        "outputId": "8f057066-12e3-40f1-9b8c-06b58188dda4"
      },
      "outputs": [
        {
          "name": "stdin",
          "output_type": "stream",
          "text": [
            "Enter your city:  Surat\n"
          ]
        },
        {
          "data": {
            "text/plain": [
              "False"
            ]
          },
          "execution_count": 271,
          "metadata": {},
          "output_type": "execute_result"
        }
      ],
      "source": [
        "your_city = input('Enter your city: ')\n",
        "your_city not in city"
      ]
    },
    {
      "cell_type": "code",
      "execution_count": null,
      "id": "7d20cef4-f8ec-4574-911c-7881ba2b37e7",
      "metadata": {
        "id": "7d20cef4-f8ec-4574-911c-7881ba2b37e7",
        "outputId": "b57a8186-d9db-4f37-9611-7df4b9903837"
      },
      "outputs": [
        {
          "data": {
            "text/plain": [
              "'Surat'"
            ]
          },
          "execution_count": 267,
          "metadata": {},
          "output_type": "execute_result"
        }
      ],
      "source": [
        "your_city"
      ]
    },
    {
      "cell_type": "code",
      "execution_count": null,
      "id": "c6328259-5253-40d6-bf67-314ed79d9ebe",
      "metadata": {
        "id": "c6328259-5253-40d6-bf67-314ed79d9ebe",
        "outputId": "b037ad89-8833-472a-c0df-8f06da268c3a"
      },
      "outputs": [
        {
          "data": {
            "text/plain": [
              "False"
            ]
          },
          "execution_count": 317,
          "metadata": {},
          "output_type": "execute_result"
        }
      ],
      "source": [
        "a = 254.5\n",
        "b = 254.5\n",
        "a is b"
      ]
    },
    {
      "cell_type": "code",
      "execution_count": null,
      "id": "f564dafd-3a89-4edb-b156-5a0739f9b5d0",
      "metadata": {
        "id": "f564dafd-3a89-4edb-b156-5a0739f9b5d0",
        "outputId": "40eb90be-2e65-4ea4-d57b-df208314857b"
      },
      "outputs": [
        {
          "data": {
            "text/plain": [
              "2099927055568"
            ]
          },
          "execution_count": 313,
          "metadata": {},
          "output_type": "execute_result"
        }
      ],
      "source": [
        "id(a)"
      ]
    },
    {
      "cell_type": "code",
      "execution_count": null,
      "id": "b846fbb4-fdf9-46ad-ac04-5e0aeed1043e",
      "metadata": {
        "id": "b846fbb4-fdf9-46ad-ac04-5e0aeed1043e",
        "outputId": "c5784b15-8a09-4411-fe55-93ebd74059d0"
      },
      "outputs": [
        {
          "data": {
            "text/plain": [
              "2099927055792"
            ]
          },
          "execution_count": 315,
          "metadata": {},
          "output_type": "execute_result"
        }
      ],
      "source": [
        "id(b)"
      ]
    }
  ],
  "metadata": {
    "kernelspec": {
      "display_name": "Python 3 (ipykernel)",
      "language": "python",
      "name": "python3"
    },
    "language_info": {
      "codemirror_mode": {
        "name": "ipython",
        "version": 3
      },
      "file_extension": ".py",
      "mimetype": "text/x-python",
      "name": "python",
      "nbconvert_exporter": "python",
      "pygments_lexer": "ipython3",
      "version": "3.12.4"
    },
    "colab": {
      "provenance": []
    }
  },
  "nbformat": 4,
  "nbformat_minor": 5
}