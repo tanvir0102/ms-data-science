{
 "cells": [
  {
   "cell_type": "code",
   "execution_count": 2,
   "id": "766931f2",
   "metadata": {},
   "outputs": [
    {
     "name": "stdout",
     "output_type": "stream",
     "text": [
      "Hello, Tanvir\n"
     ]
    }
   ],
   "source": [
    "# 1. Python program works on Interpreter so to run a code all you have line by line\n",
    "\n",
    "print(\"Hello, Tanvir\")"
   ]
  },
  {
   "cell_type": "code",
   "execution_count": 3,
   "id": "c01e1d9f",
   "metadata": {},
   "outputs": [
    {
     "name": "stdout",
     "output_type": "stream",
     "text": [
      "How are you today!\n"
     ]
    }
   ],
   "source": [
    "print(\"How are you today!\")"
   ]
  },
  {
   "cell_type": "code",
   "execution_count": 4,
   "id": "089fd8db",
   "metadata": {},
   "outputs": [],
   "source": [
    "name = input(\"What's your name??\")"
   ]
  },
  {
   "cell_type": "code",
   "execution_count": 7,
   "id": "c275c462",
   "metadata": {},
   "outputs": [
    {
     "name": "stdout",
     "output_type": "stream",
     "text": [
      "My name is:  Tanvir\n"
     ]
    }
   ],
   "source": [
    "print(\"My name is: \", name)"
   ]
  },
  {
   "cell_type": "code",
   "execution_count": 8,
   "id": "3ba60ff1",
   "metadata": {},
   "outputs": [
    {
     "name": "stdout",
     "output_type": "stream",
     "text": [
      "O    \n",
      "|____\n",
      " ||||\n",
      " ||||\n"
     ]
    }
   ],
   "source": [
    "print(\"O    \")\n",
    "print(\"|____\")\n",
    "print(\" ||||\")\n",
    "print(\" ||||\")"
   ]
  },
  {
   "cell_type": "code",
   "execution_count": 9,
   "id": "239da536",
   "metadata": {},
   "outputs": [
    {
     "name": "stdout",
     "output_type": "stream",
     "text": [
      "O    \n",
      "|____\n",
      " ||||\n",
      " ||||\n"
     ]
    }
   ],
   "source": [
    "print(\"O    \")\n",
    "print(\"|____\")\n",
    "print(\" ||||\")\n",
    "print(\" ||||\")"
   ]
  },
  {
   "cell_type": "code",
   "execution_count": 10,
   "id": "92d59207",
   "metadata": {},
   "outputs": [
    {
     "name": "stdout",
     "output_type": "stream",
     "text": [
      "$\n"
     ]
    }
   ],
   "source": [
    "print(\"$\")"
   ]
  },
  {
   "cell_type": "code",
   "execution_count": 11,
   "id": "de0760ca",
   "metadata": {},
   "outputs": [
    {
     "name": "stdout",
     "output_type": "stream",
     "text": [
      "$$$$$$$$$$\n"
     ]
    }
   ],
   "source": [
    "print(\"$\"*10)"
   ]
  },
  {
   "cell_type": "code",
   "execution_count": null,
   "id": "a359b4cb",
   "metadata": {},
   "outputs": [],
   "source": []
  }
 ],
 "metadata": {
  "kernelspec": {
   "display_name": "ds-venv",
   "language": "python",
   "name": "python3"
  },
  "language_info": {
   "codemirror_mode": {
    "name": "ipython",
    "version": 3
   },
   "file_extension": ".py",
   "mimetype": "text/x-python",
   "name": "python",
   "nbconvert_exporter": "python",
   "pygments_lexer": "ipython3",
   "version": "3.12.0"
  }
 },
 "nbformat": 4,
 "nbformat_minor": 5
}
