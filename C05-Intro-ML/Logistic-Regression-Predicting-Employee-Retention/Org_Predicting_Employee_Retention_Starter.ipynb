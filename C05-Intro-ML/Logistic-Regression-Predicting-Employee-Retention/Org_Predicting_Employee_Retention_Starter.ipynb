{
  "cells": [
    {
      "cell_type": "markdown",
      "metadata": {
        "id": "h93yUiuRbzEv"
      },
      "source": [
        "# **Predicting Employee Retention**"
      ]
    },
    {
      "cell_type": "markdown",
      "metadata": {
        "id": "V7YvL652bzE0"
      },
      "source": [
        "### Objective\n",
        "\n",
        "The objective of this assignment is to develop a Logistic Regression model. You will be using this model to analyse and predict binary outcomes based on the input data. This assignment aims to enhance understanding of logistic regression, including its assumptions, implementation, and evaluation, to effectively classify and interpret data.\n"
      ]
    },
    {
      "cell_type": "markdown",
      "metadata": {
        "id": "waZ4IVr4bzE1"
      },
      "source": [
        "### Business Objective\n",
        "\n",
        "A mid-sized technology company wants to improve its understanding of employee retention to foster a loyal and committed workforce. While the organization has traditionally focused on addressing turnover, it recognises the value of proactively identifying employees likely to stay and understanding the factors contributing to their loyalty.\n",
        "\n",
        "\n",
        "In this assignment you’ll be building a logistic regression model to predict the likelihood of employee retention based on the data such as demographic details, job satisfaction scores, performance metrics, and tenure. The aim is to provide the HR department with actionable insights to strengthen retention strategies, create a supportive work environment, and increase the overall stability and satisfaction of the workforce."
      ]
    },
    {
      "cell_type": "markdown",
      "metadata": {
        "id": "Z7zFcptgbzE2"
      },
      "source": [
        "## Assignment Tasks\n",
        "\n",
        "You need to perform the following steps to complete this assignment:\n",
        "1. Data Understanding\n",
        "2. Data Cleaning\n",
        "3. Train Validation Split\n",
        "4. EDA on training data\n",
        "5. EDA on validation data [Optional]\n",
        "6. Feature Engineering\n",
        "7. Model Building\n",
        "8. Prediction and Model Evaluation\n",
        "\n",
        "\n"
      ]
    },
    {
      "cell_type": "markdown",
      "source": [
        "## Data Dictionary\n",
        "\n",
        "The data has 24 Columns and 74610 Rows. Following data dictionary provides the description for each column present in dataset:<br>\n",
        "\n",
        "<table>\n",
        "  <thead>\n",
        "    <tr>\n",
        "      <th>Column Name</th>\n",
        "      <th>Description</th>\n",
        "    </tr>\n",
        "  </thead>\n",
        "  <tbody>\n",
        "    <tr>\n",
        "      <td>Employee ID</td>\n",
        "      <td>A unique identifier assigned to each employee.</td>\n",
        "    </tr>\n",
        "    <tr>\n",
        "      <td>Age</td>\n",
        "      <td>The age of the employee, ranging from 18 to 60 years.</td>\n",
        "    </tr>\n",
        "    <tr>\n",
        "      <td>Gender</td>\n",
        "      <td>The gender of the employee.</td>\n",
        "    </tr>\n",
        "    <tr>\n",
        "      <td>Years at Company</td>\n",
        "      <td>The number of years the employee has been working at the company.</td>\n",
        "    </tr>\n",
        "    <tr>\n",
        "      <td>Monthly Income</td>\n",
        "      <td>The monthly salary of the employee, in dollars.</td>\n",
        "    </tr>\n",
        "    <tr>\n",
        "      <td>Job Role</td>\n",
        "      <td>The department or role the employee works in, encoded into categories such as Finance, Healthcare, Technology, Education, and Media.</td>\n",
        "    </tr>\n",
        "    <tr>\n",
        "      <td>Work-Life Balance</td>\n",
        "      <td>The employee's perceived balance between work and personal life (Poor, Below Average, Good, Excellent).</td>\n",
        "    </tr>\n",
        "    <tr>\n",
        "      <td>Job Satisfaction</td>\n",
        "      <td>The employee's satisfaction with their job (Very Low, Low, Medium, High).</td>\n",
        "    </tr>\n",
        "    <tr>\n",
        "      <td>Performance Rating</td>\n",
        "      <td>The employee's performance rating (Low, Below Average, Average, High).</td>\n",
        "    </tr>\n",
        "    <tr>\n",
        "      <td>Number of Promotions</td>\n",
        "      <td>The total number of promotions the employee has received.</td>\n",
        "    </tr>\n",
        "     </tr>\n",
        "     <tr>\n",
        "      <td>Overtime</td>\n",
        "      <td>Number of overtime hours.</td>\n",
        "    </tr>\n",
        "    <tr>\n",
        "      <td>Distance from Home</td>\n",
        "      <td>The distance between the employee's home and workplace, in miles.</td>\n",
        "    </tr>\n",
        "    <tr>\n",
        "      <td>Education Level</td>\n",
        "      <td>The highest education level attained by the employee (High School, Associate Degree, Bachelor’s Degree, Master’s Degree, PhD).</td>\n",
        "    </tr>\n",
        "    <tr>\n",
        "      <td>Marital Status</td>\n",
        "      <td>The marital status of the employee (Divorced, Married, Single).</td>\n",
        "    </tr>\n",
        "     <tr>\n",
        "      <td>Number of Dependents</td>\n",
        "      <td>Number of dependents the employee has.</td>\n",
        "    </tr>\n",
        "    <tr>\n",
        "      <td>Job Level</td>\n",
        "      <td>The job level of the employee (Entry, Mid, Senior).</td>\n",
        "    </tr>\n",
        "    <tr>\n",
        "      <td>Company Size</td>\n",
        "      <td>The size of the company the employee works for (Small, Medium, Large).</td>\n",
        "    </tr>\n",
        "    <tr>\n",
        "      <td>Company Tenure (In Months)</td>\n",
        "      <td>The total number of years the employee has been working in the industry.</td>\n",
        "    </tr>\n",
        "    <tr>\n",
        "      <td>Remote Work</td>\n",
        "      <td>Whether the employee works remotely (Yes or No).</td>\n",
        "    </tr>\n",
        "    <tr>\n",
        "      <td>Leadership Opportunities</td>\n",
        "      <td>Whether the employee has leadership opportunities (Yes or No).</td>\n",
        "    </tr>\n",
        "    <tr>\n",
        "      <td>Innovation Opportunities</td>\n",
        "      <td>Whether the employee has opportunities for innovation (Yes or No).</td>\n",
        "    </tr>\n",
        "    <tr>\n",
        "      <td>Company Reputation</td>\n",
        "      <td>The employee's perception of the company's reputation (Very Poor, Poor, Good, Excellent).</td>\n",
        "    </tr>\n",
        "    <tr>\n",
        "      <td>Employee Recognition</td>\n",
        "      <td>The level of recognition the employee receives(Very Low, Low, Medium, High).</td>\n",
        "    </tr>\n",
        "    <tr>\n",
        "      <td>Attrition</td>\n",
        "      <td>Whether the employee has left the company.</td>\n",
        "    </tr>\n",
        "  </tbody>\n",
        "</table>\n"
      ],
      "metadata": {
        "id": "ejDKL2NDceHc"
      }
    },
    {
      "cell_type": "markdown",
      "metadata": {
        "id": "6lmfQyH2bzE5"
      },
      "source": [
        "## **1. Data Understanding**\n",
        "\n",
        "In this step, load the dataset and check basic statistics of the data, including preview of data, dimension of data, column descriptions and data types."
      ]
    },
    {
      "cell_type": "markdown",
      "metadata": {
        "id": "PqhCqH69bzE2"
      },
      "source": [
        "### **1.0 Import Libraries**"
      ]
    },
    {
      "cell_type": "code",
      "execution_count": null,
      "metadata": {
        "id": "1bADKAJibzE3"
      },
      "outputs": [],
      "source": [
        "# Supress unnecessary warnings\n",
        "import warnings\n",
        "warnings.filterwarnings('ignore')"
      ]
    },
    {
      "cell_type": "code",
      "execution_count": null,
      "metadata": {
        "id": "vOoaowGFbzE5"
      },
      "outputs": [],
      "source": [
        "# Import the libraries\n",
        "import numpy as np\n",
        "import pandas as pd"
      ]
    },
    {
      "cell_type": "markdown",
      "source": [
        "### **1.1 Load the Data**"
      ],
      "metadata": {
        "id": "IzOBYKpCcJZJ"
      }
    },
    {
      "cell_type": "code",
      "execution_count": null,
      "metadata": {
        "id": "Vibm0dYcbzE6"
      },
      "outputs": [],
      "source": [
        "# Load the dataset\n"
      ]
    },
    {
      "cell_type": "code",
      "execution_count": null,
      "metadata": {
        "id": "bVeUFyDxbzE6"
      },
      "outputs": [],
      "source": [
        "# Check the first few entries\n"
      ]
    },
    {
      "cell_type": "code",
      "execution_count": null,
      "metadata": {
        "id": "msGYpADRbzE7"
      },
      "outputs": [],
      "source": [
        "# Inspect the shape of the dataset\n"
      ]
    },
    {
      "cell_type": "code",
      "execution_count": null,
      "metadata": {
        "id": "kL53eXK6bzE7",
        "collapsed": true
      },
      "outputs": [],
      "source": [
        "# Inspect the different columns in the dataset\n"
      ]
    },
    {
      "cell_type": "markdown",
      "source": [
        "### **1.2 Check the basic statistics**"
      ],
      "metadata": {
        "id": "LrFKEWp8cmxB"
      }
    },
    {
      "cell_type": "code",
      "execution_count": null,
      "metadata": {
        "id": "nCykdG90bzE8"
      },
      "outputs": [],
      "source": [
        "# Check the summary of the dataset\n"
      ]
    },
    {
      "cell_type": "markdown",
      "source": [
        "### **1.3 Check the data type of columns**"
      ],
      "metadata": {
        "id": "vlLfK93PdFkt"
      }
    },
    {
      "cell_type": "code",
      "execution_count": null,
      "metadata": {
        "id": "0TplEft3bzE8"
      },
      "outputs": [],
      "source": [
        "# Check the info to see the types of the feature variables and the null values present\n"
      ]
    },
    {
      "cell_type": "markdown",
      "metadata": {
        "id": "tNXum35MbzE9"
      },
      "source": [
        "## **2. Data Cleaning** <font color = red>[15 marks]</font>"
      ]
    },
    {
      "cell_type": "markdown",
      "metadata": {
        "id": "tC_ik7dobzE9"
      },
      "source": [
        "### **2.1 Handle the missing values** <font color = red>[10 marks]</font>"
      ]
    },
    {
      "cell_type": "markdown",
      "source": [
        "2.1.1 Check the number of missing values <font color=\"red\">[2 Mark]</font>"
      ],
      "metadata": {
        "id": "8gPB7iZwdqxM"
      }
    },
    {
      "cell_type": "code",
      "execution_count": null,
      "metadata": {
        "id": "zOQGBvHSbzE9"
      },
      "outputs": [],
      "source": [
        "# Check the number of missing values in each column\n"
      ]
    },
    {
      "cell_type": "markdown",
      "source": [
        "2.1.2 Check the percentage of missing values <font color=\"red\">[2 Marks]</font>"
      ],
      "metadata": {
        "id": "vcFIVIOlR_91"
      }
    },
    {
      "cell_type": "code",
      "execution_count": null,
      "metadata": {
        "id": "sjpnMExYbzE9"
      },
      "outputs": [],
      "source": [
        "# Check the percentage of missing values in each column\n"
      ]
    },
    {
      "cell_type": "markdown",
      "source": [
        "2.1.3 Handle rows with missing values <font color=\"red\">[4 Marks]</font>"
      ],
      "metadata": {
        "id": "MJL1T8-Sd6S-"
      }
    },
    {
      "cell_type": "code",
      "execution_count": null,
      "metadata": {
        "id": "qIMPqTTWbzE_"
      },
      "outputs": [],
      "source": [
        "# Handle the missing value rows in the column\n"
      ]
    },
    {
      "cell_type": "markdown",
      "source": [
        "2.1.4 Check percentage of remaning data after missing values are removed <font color=\"red\">[2 Mark]</font>"
      ],
      "metadata": {
        "id": "uefvEMkDeJhv"
      }
    },
    {
      "cell_type": "code",
      "execution_count": null,
      "metadata": {
        "id": "SPIVeWX2bzFA"
      },
      "outputs": [],
      "source": [
        "# Check the percentage of remaining data after missing values are removed\n"
      ]
    },
    {
      "cell_type": "markdown",
      "source": [
        "### **2.2 Identify and handle redundant values within categorical columns (if any)** <font color = red>[3 marks]</font>"
      ],
      "metadata": {
        "id": "TbUOnf6rGEF1"
      }
    },
    {
      "cell_type": "markdown",
      "source": [
        "Examine the categorical columns to determine if any value or column needs to be treated"
      ],
      "metadata": {
        "id": "kEYeQw_SeaLi"
      }
    },
    {
      "cell_type": "code",
      "source": [
        "# Write a function to display the categorical columns with their unique values and check for redundant values\n"
      ],
      "metadata": {
        "id": "DIBKtZhZjIk6"
      },
      "execution_count": null,
      "outputs": []
    },
    {
      "cell_type": "code",
      "execution_count": null,
      "metadata": {
        "id": "P5eoGWCSbzFC"
      },
      "outputs": [],
      "source": [
        "# Check the data\n"
      ]
    },
    {
      "cell_type": "markdown",
      "source": [
        "### **2.3 Drop redundant columns** <font color = red>[2 marks]</font>"
      ],
      "metadata": {
        "id": "7bfojd-9ek3I"
      }
    },
    {
      "cell_type": "code",
      "execution_count": null,
      "metadata": {
        "id": "G4tBQCuxbzFC"
      },
      "outputs": [],
      "source": [
        "# Drop redundant columns which are not required for modelling\n"
      ]
    },
    {
      "cell_type": "code",
      "execution_count": null,
      "metadata": {
        "id": "diL_DCV9bzFC"
      },
      "outputs": [],
      "source": [
        "# Check first few rows of data\n"
      ]
    },
    {
      "cell_type": "markdown",
      "source": [
        "## **3. Train-Validation Split** <font color = red>[5 marks]</font>"
      ],
      "metadata": {
        "id": "4j3GERIwML89"
      }
    },
    {
      "cell_type": "markdown",
      "source": [
        "### **3.1 Import required libraries**"
      ],
      "metadata": {
        "id": "3k6v53qJhWvt"
      }
    },
    {
      "cell_type": "code",
      "execution_count": null,
      "metadata": {
        "id": "sYg9FxlvbzFH"
      },
      "outputs": [],
      "source": [
        "# Import Train Test Split\n"
      ]
    },
    {
      "cell_type": "markdown",
      "source": [
        "### **3.2 Define feature and target variables** <font color = red>[2 Mark]</font>"
      ],
      "metadata": {
        "id": "KZbrbFe2hex4"
      }
    },
    {
      "cell_type": "code",
      "execution_count": null,
      "metadata": {
        "id": "UfJfQrc5bzFH"
      },
      "outputs": [],
      "source": [
        "# Put all the feature variables in X\n",
        "\n",
        "# Put the target variable in y\n"
      ]
    },
    {
      "cell_type": "markdown",
      "source": [
        "### **3.3 Split the data** <font color=\"red\">[3 Marks]</font>"
      ],
      "metadata": {
        "id": "say6J66Bh9mo"
      }
    },
    {
      "cell_type": "code",
      "execution_count": null,
      "metadata": {
        "id": "zghEvbRUbzFH"
      },
      "outputs": [],
      "source": [
        "# Split the data into 70% train data and 30% validation data\n"
      ]
    },
    {
      "cell_type": "markdown",
      "source": [
        "## **4. EDA on training data** <font color = red>[20 marks]</font>"
      ],
      "metadata": {
        "id": "ldKNxCXogIz2"
      }
    },
    {
      "cell_type": "markdown",
      "source": [
        "### **4.1 Perform univariate analysis** <font color = red>[6 marks]</font>"
      ],
      "metadata": {
        "id": "CGyYCt8-ZBR1"
      }
    },
    {
      "cell_type": "markdown",
      "source": [
        "Perform univariate analysis on training data for all the numerical columns.\n",
        "\n",
        "\n"
      ],
      "metadata": {
        "id": "YTdmWrZ1gjmv"
      }
    },
    {
      "cell_type": "markdown",
      "source": [
        "4.1.1 Select numerical columns from training data <font color = \"red\">[1 Mark]</font>"
      ],
      "metadata": {
        "id": "hDDjpMUcZPrp"
      }
    },
    {
      "cell_type": "code",
      "source": [
        "# Select numerical columns\n"
      ],
      "metadata": {
        "id": "ilQNUm3ugqEb"
      },
      "execution_count": null,
      "outputs": []
    },
    {
      "cell_type": "markdown",
      "source": [
        "4.1.2 Plot distribution of numerical columns <font color = \"red\">[5 Marks]</font>"
      ],
      "metadata": {
        "id": "kx8SQw19ZfXw"
      }
    },
    {
      "cell_type": "code",
      "source": [
        "# Plot all the numerical columns to understand their distribution\n",
        "\n",
        "# Import necessary libraries\n",
        "import seaborn as sns\n",
        "import matplotlib.pyplot as plt\n"
      ],
      "metadata": {
        "id": "zH5WGU_tgxnL"
      },
      "execution_count": null,
      "outputs": []
    },
    {
      "cell_type": "markdown",
      "source": [
        "### **4.2 Perform correlation analysis** <font color=\"red\">[4 Marks]</font>"
      ],
      "metadata": {
        "id": "ZwJQGBQuZwnC"
      }
    },
    {
      "cell_type": "markdown",
      "source": [
        "Check the correlation among different numerical variables."
      ],
      "metadata": {
        "id": "RN3ENFP6oRjq"
      }
    },
    {
      "cell_type": "code",
      "source": [
        "# Create correlation matrix for numerical columns\n",
        "\n",
        "# Plot Heatmap of the correlation matrix\n"
      ],
      "metadata": {
        "id": "qPFKI4vZoXXw"
      },
      "execution_count": null,
      "outputs": []
    },
    {
      "cell_type": "markdown",
      "source": [
        "### **4.3 Check class balance** <font color=\"red\">[2 Marks]</font>"
      ],
      "metadata": {
        "id": "g6YQGm9HaKA7"
      }
    },
    {
      "cell_type": "markdown",
      "source": [
        "Check the distribution of target variable in training set to check class balance."
      ],
      "metadata": {
        "id": "_--fA2Dcpjml"
      }
    },
    {
      "cell_type": "code",
      "source": [
        "# Plot a bar chart to check class balance\n"
      ],
      "metadata": {
        "id": "Lp-suUWKpn8h"
      },
      "execution_count": null,
      "outputs": []
    },
    {
      "cell_type": "markdown",
      "source": [
        "### **4.4 Perform bivariate analysis** <font color=\"red\">[8 Marks]</font>"
      ],
      "metadata": {
        "id": "lZ-lppqAaeZM"
      }
    },
    {
      "cell_type": "markdown",
      "source": [
        "Perform bivariate analysis on training data between all the categorical columns and target variable to  analyse how the categorical variables influence the target variable."
      ],
      "metadata": {
        "id": "i4JjkVzja1kA"
      }
    },
    {
      "cell_type": "code",
      "source": [
        "# Plot distribution for each categorical column with target variable\n"
      ],
      "metadata": {
        "id": "3-rK15xjsv6f"
      },
      "execution_count": null,
      "outputs": []
    },
    {
      "cell_type": "markdown",
      "source": [
        "## **5. EDA on validation data** <font color = red>[OPTIONAL]</font>"
      ],
      "metadata": {
        "id": "nqRcfQ4avArz"
      }
    },
    {
      "cell_type": "markdown",
      "source": [
        "### **5.1 Perform univariate analysis**"
      ],
      "metadata": {
        "id": "I9Iq1uvfa7ro"
      }
    },
    {
      "cell_type": "markdown",
      "source": [
        "Perform univariate analysis on validation data for all the numerical columns.\n"
      ],
      "metadata": {
        "id": "EScWfXFNvAr3"
      }
    },
    {
      "cell_type": "markdown",
      "source": [
        "5.1.1 Select numerical columns from validation data"
      ],
      "metadata": {
        "id": "ofFfSSPSa0sD"
      }
    },
    {
      "cell_type": "code",
      "source": [
        "# Select numerical columns\n"
      ],
      "metadata": {
        "id": "BpkHJm8BvAr3"
      },
      "execution_count": null,
      "outputs": []
    },
    {
      "cell_type": "markdown",
      "source": [
        "5.1.2 Plot distribution of numerical columns"
      ],
      "metadata": {
        "id": "vZbQ8HzRbDPP"
      }
    },
    {
      "cell_type": "code",
      "source": [
        "# Plot all the numerical columns to understand their distribution\n"
      ],
      "metadata": {
        "id": "VoNtrdrUvAr4"
      },
      "execution_count": null,
      "outputs": []
    },
    {
      "cell_type": "markdown",
      "source": [
        "### **5.2 Perform correlation analysis**"
      ],
      "metadata": {
        "id": "85zpsiHUvAr4"
      }
    },
    {
      "cell_type": "markdown",
      "source": [
        "Check the correlation among different numerical variables."
      ],
      "metadata": {
        "id": "5TcmX7ywaWuo"
      }
    },
    {
      "cell_type": "code",
      "source": [
        "# Create correlation matrix for numerical columns\n",
        "\n",
        "# Plot Heatmap of the correlation matrix\n"
      ],
      "metadata": {
        "id": "ylnfMmNqvAr4"
      },
      "execution_count": null,
      "outputs": []
    },
    {
      "cell_type": "markdown",
      "source": [
        "### **5.3 Check class balance**"
      ],
      "metadata": {
        "id": "1fcm5Q1vvAr5"
      }
    },
    {
      "cell_type": "markdown",
      "source": [
        "Check the distribution of target variable in validation data to check class balance."
      ],
      "metadata": {
        "id": "qz6Ewijyaa9h"
      }
    },
    {
      "cell_type": "code",
      "source": [
        "# Plot a bar chart to check class balance\n"
      ],
      "metadata": {
        "id": "ZiHsUZnkvAr5"
      },
      "execution_count": null,
      "outputs": []
    },
    {
      "cell_type": "markdown",
      "source": [
        "### **5.4 Perform bivariate analysis**"
      ],
      "metadata": {
        "id": "YQAoo6aKbcWz"
      }
    },
    {
      "cell_type": "markdown",
      "source": [
        "Perform bivariate analysis on validation data between all the categorical columns and target variable to analyse how the categorical variables influence the target variable."
      ],
      "metadata": {
        "id": "14-qNV44djPP"
      }
    },
    {
      "cell_type": "code",
      "source": [
        "# Plot distribution for each categorical column with target variable\n"
      ],
      "metadata": {
        "id": "0EO4qSIovAr6"
      },
      "execution_count": null,
      "outputs": []
    },
    {
      "cell_type": "markdown",
      "source": [
        "## **6. Feature Engineering** <font color = red>[20 marks]</font>"
      ],
      "metadata": {
        "id": "0DGrycx6wKmN"
      }
    },
    {
      "cell_type": "markdown",
      "metadata": {
        "id": "xzdF2TmEbzFD"
      },
      "source": [
        "### **6.1 Dummy variable creation** <font color = red>[15 marks]</font>\n",
        "\n",
        "\n",
        "The next step is to deal with the categorical variables present in the data."
      ]
    },
    {
      "cell_type": "markdown",
      "source": [
        "6.1.1 Identify categorical columns where dummy variables are required <font color=\"red\">[1 Mark]</font>"
      ],
      "metadata": {
        "id": "_vG9HZkVe3Lk"
      }
    },
    {
      "cell_type": "code",
      "execution_count": null,
      "metadata": {
        "id": "7dUFEFVGbzFD"
      },
      "outputs": [],
      "source": [
        "# Check the categorical columns\n"
      ]
    },
    {
      "cell_type": "markdown",
      "source": [
        "6.1.2 Create dummy variables for independent columns in training set <font color=\"red\">[3 Marks]</font>"
      ],
      "metadata": {
        "id": "dLpmkPp6e-1j"
      }
    },
    {
      "cell_type": "code",
      "execution_count": null,
      "metadata": {
        "id": "x5vk968HbzFE"
      },
      "outputs": [],
      "source": [
        "# Create dummy variables using the 'get_dummies' for independent columns\n",
        "\n",
        "# Add the results to the master DataFrame\n"
      ]
    },
    {
      "cell_type": "markdown",
      "source": [
        "Now, drop the original categorical columns and check the DataFrame"
      ],
      "metadata": {
        "id": "xJFSbVR9uYjT"
      }
    },
    {
      "cell_type": "code",
      "source": [
        "# Drop the original categorical columns and check the DataFrame\n"
      ],
      "metadata": {
        "id": "m-U8OPvKyOs-"
      },
      "execution_count": null,
      "outputs": []
    },
    {
      "cell_type": "markdown",
      "source": [
        "6.1.3 Create dummy variables for independent columns in validation set <font color=\"red\">[3 Marks]</font>"
      ],
      "metadata": {
        "id": "kqMXYxpowQc6"
      }
    },
    {
      "cell_type": "code",
      "source": [
        "# Create dummy variables using the 'get_dummies' for independent columns\n",
        "\n",
        "# Add the results to the master DataFrame\n"
      ],
      "metadata": {
        "id": "Ib8Zdq6Ruuj_"
      },
      "execution_count": null,
      "outputs": []
    },
    {
      "cell_type": "markdown",
      "source": [
        "Now, drop the original categorical columns and check the DataFrame"
      ],
      "metadata": {
        "id": "9RDKGX9N4qLq"
      }
    },
    {
      "cell_type": "code",
      "source": [
        "# Drop categorical columns and check the DataFrame\n"
      ],
      "metadata": {
        "id": "Dh6Mk_JvyUkz"
      },
      "execution_count": null,
      "outputs": []
    },
    {
      "cell_type": "markdown",
      "source": [
        "6.1.4 Create DataFrame for dependent column in both training and validation set <font color = \"red\">[1 Mark]</font>"
      ],
      "metadata": {
        "id": "zesgvCjzPHba"
      }
    },
    {
      "cell_type": "code",
      "source": [
        "# Convert y_train and y_validation to DataFrame to create dummy variables\n"
      ],
      "metadata": {
        "id": "e2JTJRaa-qem"
      },
      "execution_count": null,
      "outputs": []
    },
    {
      "cell_type": "markdown",
      "source": [
        "6.1.5 Create dummy variables for dependent column in training set <font color=\"red\">[3 Marks]</font>"
      ],
      "metadata": {
        "id": "2QN-k-IHPX5s"
      }
    },
    {
      "cell_type": "code",
      "source": [
        "# Create dummy variables using the 'get_dummies' for dependent column\n"
      ],
      "metadata": {
        "id": "OfrtF4a59LNK"
      },
      "execution_count": null,
      "outputs": []
    },
    {
      "cell_type": "markdown",
      "source": [
        "6.1.6 Create dummy variable for dependent column in validation set <font color = \"red\">[3 Marks]</font>"
      ],
      "metadata": {
        "id": "8p_zQEx4w-OU"
      }
    },
    {
      "cell_type": "code",
      "source": [
        "# Create dummy variables using the 'get_dummies' for dependent column\n"
      ],
      "metadata": {
        "id": "5mWed8j5xOS7"
      },
      "execution_count": null,
      "outputs": []
    },
    {
      "cell_type": "markdown",
      "source": [
        "6.1.7 Drop redundant columns <font color=\"red\">[1 Mark]</font>"
      ],
      "metadata": {
        "id": "-ej5eSB4PiCx"
      }
    },
    {
      "cell_type": "code",
      "source": [
        "# Drop redundant columns from both train and validation\n"
      ],
      "metadata": {
        "id": "WxYmaNE5Aoas"
      },
      "execution_count": null,
      "outputs": []
    },
    {
      "cell_type": "markdown",
      "metadata": {
        "id": "8zL0XwIAbzFH"
      },
      "source": [
        "### **6.2 Feature scaling** <font color = red>[5 marks]</font>\n",
        "\n",
        "Apply feature scaling to the numeric columns to bring them to a common range and ensure consistent scaling."
      ]
    },
    {
      "cell_type": "markdown",
      "source": [
        "6.2.1 Import required libraries <font color=\"red\">[1 Mark]</font>"
      ],
      "metadata": {
        "id": "x2Di6iSjU41j"
      }
    },
    {
      "cell_type": "code",
      "execution_count": null,
      "metadata": {
        "id": "AhsJWDc4bzFH"
      },
      "outputs": [],
      "source": [
        "# Import the necessary scaling tool from scikit-learn\n"
      ]
    },
    {
      "cell_type": "markdown",
      "source": [
        "6.2.2 Scale the numerical features <font color=\"red\">[4 Marks]</font>"
      ],
      "metadata": {
        "id": "-RE9MEgQVAg8"
      }
    },
    {
      "cell_type": "code",
      "execution_count": null,
      "metadata": {
        "id": "WCV2mKErbzFH"
      },
      "outputs": [],
      "source": [
        "# Scale the numeric features present in the training set\n",
        "\n",
        "# Scale the numerical features present in the validation set\n"
      ]
    },
    {
      "cell_type": "markdown",
      "source": [
        "## **7. Model Building** <font color = red>[40 marks]</font>"
      ],
      "metadata": {
        "id": "BFIOMdJqBRyw"
      }
    },
    {
      "cell_type": "markdown",
      "metadata": {
        "id": "5VrBY3MpbzFI"
      },
      "source": [
        "### **7.1 Feature selection** <font color = red>[5 marks]</font>\n",
        "\n",
        "As there are a lot of variables present in the data, Recursive Feature Elimination (RFE) will be used to select the most influential features for building the model."
      ]
    },
    {
      "cell_type": "markdown",
      "source": [
        "7.1.1 Import required libraries <font color=\"red\">[1 Mark]</font>"
      ],
      "metadata": {
        "id": "927evRo1VO4e"
      }
    },
    {
      "cell_type": "code",
      "execution_count": null,
      "metadata": {
        "id": "V1uKag9gbzFI"
      },
      "outputs": [],
      "source": [
        "# Import 'LogisticRegression' and create a LogisticRegression object\n"
      ]
    },
    {
      "cell_type": "markdown",
      "source": [
        "7.1.2 Import RFE  and select 15 variables <font color=\"red\">[3 Mark]</font>"
      ],
      "metadata": {
        "id": "M_flTl2qVS1t"
      }
    },
    {
      "cell_type": "code",
      "execution_count": null,
      "metadata": {
        "id": "JMAKjGQAbzFI"
      },
      "outputs": [],
      "source": [
        "# Import RFE and select 15 variables\n"
      ]
    },
    {
      "cell_type": "code",
      "execution_count": null,
      "metadata": {
        "id": "znuj-wmubzFJ"
      },
      "outputs": [],
      "source": [
        "# Display the features selected by RFE\n"
      ]
    },
    {
      "cell_type": "markdown",
      "metadata": {
        "id": "AfSLJwIFbzFJ"
      },
      "source": [
        "7.1.3 Store the selected features <font color=\"red\">[1 Mark]</font>\n",
        "\n",
        "\n"
      ]
    },
    {
      "cell_type": "code",
      "execution_count": null,
      "metadata": {
        "id": "CblOqMSzbzFJ"
      },
      "outputs": [],
      "source": [
        "# Put columns selected by RFE into variable 'col'\n"
      ]
    },
    {
      "cell_type": "markdown",
      "metadata": {
        "id": "wMGvl2H1bzFJ"
      },
      "source": [
        "### **7.2 Building Logistic Regression Model** <font color = red>[20 marks]</font>\n",
        "\n",
        "Now that you have selected the variables through RFE, use these features to build a logistic regression model with statsmodels. This will allow you to assess the statistical aspects, such as p-values and VIFs, which are important for checking multicollinearity and ensuring that the predictors are not highly correlated with each other, as this could distort the model's coefficients."
      ]
    },
    {
      "cell_type": "markdown",
      "source": [
        "7.2.1 Select relevant columns on training set <font color=\"red\">[1 Mark]</font>"
      ],
      "metadata": {
        "id": "X9t-NQ2KjHv6"
      }
    },
    {
      "cell_type": "code",
      "execution_count": null,
      "metadata": {
        "id": "HLHDHKfSbzFJ"
      },
      "outputs": [],
      "source": [
        "# Select only the columns selected by RFE\n"
      ]
    },
    {
      "cell_type": "code",
      "execution_count": null,
      "metadata": {
        "id": "DLukEfebbzFJ"
      },
      "outputs": [],
      "source": [
        "# View the training data\n"
      ]
    },
    {
      "cell_type": "markdown",
      "source": [
        "7.2.2 Add constant to training set <font color = \"red\">[1 Mark]</font>"
      ],
      "metadata": {
        "id": "Ikq-mNcWjZ7u"
      }
    },
    {
      "cell_type": "code",
      "execution_count": null,
      "metadata": {
        "id": "QNcomiZdbzFK"
      },
      "outputs": [],
      "source": [
        "# Import statsmodels and add constant to training set\n"
      ]
    },
    {
      "cell_type": "markdown",
      "source": [
        "7.2.3 Fit logistic regression model <font color=\"red\">[3 Marks]</font>"
      ],
      "metadata": {
        "id": "XbOjP0UJjmJr"
      }
    },
    {
      "cell_type": "code",
      "execution_count": null,
      "metadata": {
        "id": "ZTQHS0e7bzFK"
      },
      "outputs": [],
      "source": [
        "# Fit a logistic regression model on X_train after adding a constant and output the summary\n"
      ]
    },
    {
      "cell_type": "markdown",
      "metadata": {
        "id": "xyLcup7xbzFK"
      },
      "source": [
        "**Model Interpretation**\n",
        "\n",
        "The output summary table  will provide the features used for building model along with coefficient of each of the feature and their p-value. The p-value in a logistic regression model is used to assess the statistical significance of each coefficient. Lesser the p-value, more significant the feature is in the model.\n",
        "\n",
        "A positive coefficient will indicate that an increase in the value of feature would increase the odds of the event occurring. On the other hand, a negative coefficient means the opposite, i.e,  an increase in the value of feature would decrease the odds of the event occurring.\n",
        "\n"
      ]
    },
    {
      "cell_type": "markdown",
      "source": [
        "7.2.4 Evaluate VIF of features <font color=\"red\">[3 Marks]</font>"
      ],
      "metadata": {
        "id": "LICa4vdcj0nP"
      }
    },
    {
      "cell_type": "code",
      "execution_count": null,
      "metadata": {
        "id": "HCHI-Z-UbzFK"
      },
      "outputs": [],
      "source": [
        "# Import 'variance_inflation_factor'\n",
        "from statsmodels.stats.outliers_influence import variance_inflation_factor"
      ]
    },
    {
      "cell_type": "code",
      "execution_count": null,
      "metadata": {
        "id": "ute-cXihbzFL"
      },
      "outputs": [],
      "source": [
        "# Make a VIF DataFrame for all the variables present\n"
      ]
    },
    {
      "cell_type": "markdown",
      "metadata": {
        "id": "1iDznUNbbzFL"
      },
      "source": [
        "Proceed to the next step if p-values and VIFs are within acceptable ranges.  If you observe high p-values or VIFs, create new cells to drop the features and retrain the model."
      ]
    },
    {
      "cell_type": "markdown",
      "source": [
        "7.2.5 Make predictions on training set <font color = \"red\">[2 Marks]</font>"
      ],
      "metadata": {
        "id": "uVrg9XDGkC1p"
      }
    },
    {
      "cell_type": "code",
      "execution_count": null,
      "metadata": {
        "id": "bq545BKdbzFL"
      },
      "outputs": [],
      "source": [
        "# Predict the probabilities on the training set\n"
      ]
    },
    {
      "cell_type": "markdown",
      "source": [
        "7.2.6 Format the prediction output <font color=\"red\">[1 Mark]</font>"
      ],
      "metadata": {
        "id": "M7M8kndokRo3"
      }
    },
    {
      "cell_type": "code",
      "execution_count": null,
      "metadata": {
        "id": "tqSLANvybzFL"
      },
      "outputs": [],
      "source": [
        "# Reshape it into an array\n"
      ]
    },
    {
      "cell_type": "markdown",
      "metadata": {
        "id": "B__pQ9mBbzFM"
      },
      "source": [
        "7.2.7 Create a DataFrame with the actual stayed flag and the predicted probabilities <font color=\"red\">[1 Mark]</font>"
      ]
    },
    {
      "cell_type": "code",
      "execution_count": null,
      "metadata": {
        "id": "-YcNu7FEbzFM"
      },
      "outputs": [],
      "source": [
        "# Create a new DataFrame containing the actual stayed flag and the probabilities predicted by the model\n"
      ]
    },
    {
      "cell_type": "markdown",
      "metadata": {
        "id": "ShtZ7a30bzFM"
      },
      "source": [
        "7.2.8 Create a new column 'Predicted' with 1 if predicted probabilities are greater than 0.5 else 0 <font color = \"red\">[1 Mark]</font>"
      ]
    },
    {
      "cell_type": "code",
      "execution_count": null,
      "metadata": {
        "id": "_V3Pq0k4bzFM"
      },
      "outputs": [],
      "source": [
        "# Create a new column 'Predicted' with 1 if predicted probabilities are greater than 0.5 else 0\n"
      ]
    },
    {
      "cell_type": "markdown",
      "metadata": {
        "id": "e6mNG69ybzFL"
      },
      "source": [
        "**Evaluation of performance of Model**\n",
        "\n",
        "Evaluate the performance of the model based on the predictions made on the training set.\n"
      ]
    },
    {
      "cell_type": "markdown",
      "metadata": {
        "id": "Kl_XslnfbzFM"
      },
      "source": [
        "7.2.9 Check the accuracy of the model based on the predictions made on the training set <font color = \"red\">[1 Mark]</font>"
      ]
    },
    {
      "cell_type": "code",
      "execution_count": null,
      "metadata": {
        "id": "jhA1kq_dbzFM"
      },
      "outputs": [],
      "source": [
        "# Import metrics from sklearn for evaluation\n",
        "from sklearn import metrics\n",
        "\n",
        "# Check the overall accuracy\n"
      ]
    },
    {
      "cell_type": "markdown",
      "metadata": {
        "id": "JIo_9vjSbzFM"
      },
      "source": [
        "7.2.10 Create a confusion matrix based on the predictions made on the training set <font color=\"red\">[1 mark]</font>"
      ]
    },
    {
      "cell_type": "code",
      "execution_count": null,
      "metadata": {
        "id": "L_1DsDkjbzFN"
      },
      "outputs": [],
      "source": [
        "# Create confusion matrix\n"
      ]
    },
    {
      "cell_type": "markdown",
      "source": [
        "7.2.11 Create variables for true positive, true negative, false positive and false negative <font color=\"red\">[1 Mark]</font>"
      ],
      "metadata": {
        "id": "LhUC-9xrpv1L"
      }
    },
    {
      "cell_type": "code",
      "execution_count": null,
      "metadata": {
        "id": "lK9ZbfjIbzFN"
      },
      "outputs": [],
      "source": [
        "# Create variables for true positive, true negative, false positive and false negative\n"
      ]
    },
    {
      "cell_type": "markdown",
      "metadata": {
        "id": "teRSbuOSbzFN"
      },
      "source": [
        "7.2.12 Calculate sensitivity and specificity of model  <font color=\"red\">[2 Marks]</font>"
      ]
    },
    {
      "cell_type": "code",
      "execution_count": null,
      "metadata": {
        "id": "-G-5XVNJbzFN"
      },
      "outputs": [],
      "source": [
        "# Calculate sensitivity\n"
      ]
    },
    {
      "cell_type": "code",
      "source": [
        "# Calculate specificity"
      ],
      "metadata": {
        "id": "A24XTKXnEFYH"
      },
      "execution_count": null,
      "outputs": []
    },
    {
      "cell_type": "markdown",
      "metadata": {
        "id": "lDuRAKYgbzFO"
      },
      "source": [
        "7.2.13 Calculate precision and recall of model <font color=\"red\">[2 Marks]</font>"
      ]
    },
    {
      "cell_type": "code",
      "execution_count": null,
      "metadata": {
        "id": "SwzXNQqYbzFO"
      },
      "outputs": [],
      "source": [
        "# Calculate precision\n"
      ]
    },
    {
      "cell_type": "code",
      "execution_count": null,
      "metadata": {
        "id": "kCNnfrQIbzFO"
      },
      "outputs": [],
      "source": [
        "# Calculate recall\n"
      ]
    },
    {
      "cell_type": "markdown",
      "metadata": {
        "id": "IThpUyeKbzFO"
      },
      "source": [
        "### **7.3 Find the optimal cutoff** <font color = red>[15 marks]</font>\n",
        "\n",
        "Find the optimal cutoff to improve model performance. While a default threshold of 0.5 was used for initial evaluation, optimising this threshold can enhance the model's performance.\n",
        "\n",
        "First, plot the ROC curve and check AUC.\n",
        "\n"
      ]
    },
    {
      "cell_type": "markdown",
      "source": [
        "7.3.1 Plot ROC curve <font color=\"red\">[3 Marks]</font>"
      ],
      "metadata": {
        "id": "K6P4KhA_pH-P"
      }
    },
    {
      "cell_type": "code",
      "execution_count": null,
      "metadata": {
        "id": "-QAnutZNbzFO"
      },
      "outputs": [],
      "source": [
        "# Define ROC function\n"
      ]
    },
    {
      "cell_type": "code",
      "execution_count": null,
      "metadata": {
        "id": "-hkCvgfEbzFO"
      },
      "outputs": [],
      "source": [
        "# Call the ROC function\n"
      ]
    },
    {
      "cell_type": "markdown",
      "metadata": {
        "id": "TIbs06KDbzFO"
      },
      "source": [
        "**Sensitivity and Specificity tradeoff**\n",
        "\n",
        "Check sensitivity and specificity tradeoff to find the optimal cutoff point."
      ]
    },
    {
      "cell_type": "markdown",
      "source": [
        "7.3.2 Predict on training set at various probability cutoffs <font color=\"red\">[1 Mark]</font>"
      ],
      "metadata": {
        "id": "1II4CXInpfuZ"
      }
    },
    {
      "cell_type": "code",
      "execution_count": null,
      "metadata": {
        "id": "-74M5fbIbzFO"
      },
      "outputs": [],
      "source": [
        "# Predict on training data by creating columns with different probability cutoffs to explore the impact of cutoff on model performance\n"
      ]
    },
    {
      "cell_type": "markdown",
      "source": [
        "7.3.3 Plot for accuracy, sensitivity, specificity at different probability cutoffs <font color=\"red\">[2 Marks]</font>"
      ],
      "metadata": {
        "id": "DA0BEORfp_nW"
      }
    },
    {
      "cell_type": "code",
      "execution_count": null,
      "metadata": {
        "id": "An1cy6CJbzFP"
      },
      "outputs": [],
      "source": [
        "# Create a DataFrame to see the values of accuracy, sensitivity, and specificity at different values of probability cutoffs\n"
      ]
    },
    {
      "cell_type": "code",
      "execution_count": null,
      "metadata": {
        "id": "P725dvI6bzFP"
      },
      "outputs": [],
      "source": [
        "# Plot accuracy, sensitivity, and specificity at different values of probability cutoffs\n"
      ]
    },
    {
      "cell_type": "markdown",
      "source": [
        "7.3.4 Create a column for final prediction based on the optimal cutoff <font color=\"red\">[2 Marks]</font>"
      ],
      "metadata": {
        "id": "xnCc19DyqUSt"
      }
    },
    {
      "cell_type": "code",
      "execution_count": null,
      "metadata": {
        "id": "yLyy-eawbzFP"
      },
      "outputs": [],
      "source": [
        "# Create a column for final prediction based on the optimal cutoff\n"
      ]
    },
    {
      "cell_type": "markdown",
      "source": [
        "7.3.5 Calculate model's accuracy <font color=\"red\">[1Mark]</font>"
      ],
      "metadata": {
        "id": "rRyaBXdEqryR"
      }
    },
    {
      "cell_type": "code",
      "execution_count": null,
      "metadata": {
        "id": "dr5PFXZMbzFP"
      },
      "outputs": [],
      "source": [
        "# Calculate the accuracy\n"
      ]
    },
    {
      "cell_type": "markdown",
      "source": [
        "7.3.6 Create confusion matrix <font color=\"red\">[1Mark]</font>"
      ],
      "metadata": {
        "id": "DfgLjKNYrDr8"
      }
    },
    {
      "cell_type": "code",
      "execution_count": null,
      "metadata": {
        "id": "KNCQmHAgbzFQ"
      },
      "outputs": [],
      "source": [
        "# Create the confusion matrix once again\n"
      ]
    },
    {
      "cell_type": "markdown",
      "source": [
        "7.3.7 Create variables for true positive, true negative, false positive and false negative <font color=\"red\">[1Mark]</font>"
      ],
      "metadata": {
        "id": "ZE80CYQ4rMCM"
      }
    },
    {
      "cell_type": "code",
      "execution_count": null,
      "metadata": {
        "id": "l53itzjzbzFQ"
      },
      "outputs": [],
      "source": [
        "# Create variables for true positive, true negative, false positive and false negative\n"
      ]
    },
    {
      "cell_type": "markdown",
      "source": [
        "7.3.8 Calculate sensitivity and specificity of the model <font color=\"red\">[1Mark]</font>"
      ],
      "metadata": {
        "id": "0drkvl0drY2t"
      }
    },
    {
      "cell_type": "code",
      "execution_count": null,
      "metadata": {
        "id": "GtXYfD1mbzFQ"
      },
      "outputs": [],
      "source": [
        "# Calculate Sensitivity\n"
      ]
    },
    {
      "cell_type": "code",
      "execution_count": null,
      "metadata": {
        "id": "I4Meaz7RbzFR"
      },
      "outputs": [],
      "source": [
        "# Calculate Specificity\n"
      ]
    },
    {
      "cell_type": "markdown",
      "source": [
        "7.3.9 Calculate precision and recall of the model <font color=\"red\">[1Mark]</font>"
      ],
      "metadata": {
        "id": "ZBm4vL_2rhgF"
      }
    },
    {
      "cell_type": "code",
      "execution_count": null,
      "metadata": {
        "id": "lnQgXuQCbzFR"
      },
      "outputs": [],
      "source": [
        "# Calculate Precision\n"
      ]
    },
    {
      "cell_type": "code",
      "execution_count": null,
      "metadata": {
        "id": "Z4HQbkZhbzFS"
      },
      "outputs": [],
      "source": [
        "# Calculate Recall\n"
      ]
    },
    {
      "cell_type": "markdown",
      "metadata": {
        "id": "rxmGPpwpbzFS"
      },
      "source": [
        "**Precision and Recall tradeoff**\n",
        "\n",
        "Check optimal cutoff value by plotting precision-recall curve, and adjust the cutoff based on the precision and recall tradeoff if required."
      ]
    },
    {
      "cell_type": "code",
      "execution_count": null,
      "metadata": {
        "id": "L1gibcCMbzFS"
      },
      "outputs": [],
      "source": [
        "# Import precision-recall curve function\n",
        "from sklearn.metrics import precision_recall_curve"
      ]
    },
    {
      "cell_type": "code",
      "execution_count": null,
      "metadata": {
        "id": "MV-oGIWHbzFT"
      },
      "outputs": [],
      "source": [
        "# Check actual and predicted values from initial model\n"
      ]
    },
    {
      "cell_type": "markdown",
      "source": [
        "7.3.10 Plot precision-recall curve <font color=\"red\">[2 Marks]</font>"
      ],
      "metadata": {
        "id": "9dV_jCG6rykd"
      }
    },
    {
      "cell_type": "code",
      "execution_count": null,
      "metadata": {
        "id": "da902sgzbzFT"
      },
      "outputs": [],
      "source": [
        "# Plot precision-recall curve\n"
      ]
    },
    {
      "cell_type": "markdown",
      "metadata": {
        "id": "c6fCFjfubzFT"
      },
      "source": [
        "## **8. Prediction and Model Evaluation** <font color = red>[30 marks]</font>\n",
        "\n",
        "Use the model from the previous step to make predictions on the validation set with the optimal cutoff. Then evaluate the model's performance using metrics such as accuracy, sensitivity, specificity, precision, and recall."
      ]
    },
    {
      "cell_type": "markdown",
      "metadata": {
        "id": "GEY3dsXNbzFU"
      },
      "source": [
        "### **8.1 Make predictions over validation set** <font color = red>[15 marks]</font>"
      ]
    },
    {
      "cell_type": "markdown",
      "metadata": {
        "id": "6PSHBQ5qbzFU"
      },
      "source": [
        "8.1.1 Select relevant features for validation set <font color=\"red\">[2 Marks]</font>\n",
        "\n"
      ]
    },
    {
      "cell_type": "code",
      "execution_count": null,
      "metadata": {
        "id": "g9n1aTakbzFU"
      },
      "outputs": [],
      "source": [
        "# Select the relevant features for validation set\n"
      ]
    },
    {
      "cell_type": "markdown",
      "source": [
        "8.1.2 Add constant to X_validation <font color=\"red\">[2 Marks]</font>"
      ],
      "metadata": {
        "id": "pNGNgwNrsXf9"
      }
    },
    {
      "cell_type": "code",
      "execution_count": null,
      "metadata": {
        "id": "3Y_CGwNWbzFU"
      },
      "outputs": [],
      "source": [
        "# Add constant to X_validation\n"
      ]
    },
    {
      "cell_type": "markdown",
      "source": [
        "8.1.3 Make predictions over validation set <font color=\"red\">[3 Marks]</font>"
      ],
      "metadata": {
        "id": "tSl-wRsRshW_"
      }
    },
    {
      "cell_type": "code",
      "execution_count": null,
      "metadata": {
        "id": "N7tRbWcQbzFU"
      },
      "outputs": [],
      "source": [
        "# Make predictions on the validation set and store it in the variable 'y_validation_pred'\n",
        "\n",
        "# View predictions\n"
      ]
    },
    {
      "cell_type": "markdown",
      "source": [
        "8.1.4 Create DataFrame with actual values and predicted values for validation set <font color=\"red\">[5 Marks]</font>"
      ],
      "metadata": {
        "id": "ONdgg12qtJSs"
      }
    },
    {
      "cell_type": "code",
      "execution_count": null,
      "metadata": {
        "id": "cxhXWRVMbzFV"
      },
      "outputs": [],
      "source": [
        "# Convert 'y_validation_pred' to a DataFrame 'predicted_probability'\n",
        "\n",
        "# Convert 'y_validation' to DataFrame 'actual'\n",
        "\n",
        "# Remove index from both DataFrames 'actual' and 'predicted_probability' to append them side by side\n"
      ]
    },
    {
      "cell_type": "markdown",
      "source": [
        "8.1.5 Predict final prediction based on the cutoff value <font color=\"red\">[3 Marks]</font>"
      ],
      "metadata": {
        "id": "3HrzB4MRtlGB"
      }
    },
    {
      "cell_type": "code",
      "execution_count": null,
      "metadata": {
        "id": "SCshcMgnbzFW"
      },
      "outputs": [],
      "source": [
        "# Make predictions on the validation set using the optimal cutoff and store it in a column 'final_prediction'\n",
        "\n",
        "# Check the DataFrame\n"
      ]
    },
    {
      "cell_type": "markdown",
      "metadata": {
        "id": "gMSL-5-pbzFW"
      },
      "source": [
        "### **8.2 Calculate accuracy of the model** <font color = red>[2 marks]</font>"
      ]
    },
    {
      "cell_type": "code",
      "execution_count": null,
      "metadata": {
        "id": "bwRF3dn6bzFW"
      },
      "outputs": [],
      "source": [
        "# Calculate the overall accuracy\n"
      ]
    },
    {
      "cell_type": "markdown",
      "metadata": {
        "id": "8tNEp8_bbzFW"
      },
      "source": [
        "### **8.3 Create confusion matrix and create variables for true positive, true negative, false positive and false negative** <font color = red>[5 marks]</font>"
      ]
    },
    {
      "cell_type": "code",
      "execution_count": null,
      "metadata": {
        "id": "RnaOhweTbzFW"
      },
      "outputs": [],
      "source": [
        "# Create confusion matrix\n"
      ]
    },
    {
      "cell_type": "code",
      "execution_count": null,
      "metadata": {
        "id": "AbnOzs9VbzFW"
      },
      "outputs": [],
      "source": [
        "# Create variables for true positive, true negative, false positive and false negative\n"
      ]
    },
    {
      "cell_type": "markdown",
      "metadata": {
        "id": "rfnlV8xobzFW"
      },
      "source": [
        "### **8.4 Calculate sensitivity and specificity** <font color = red>[4 marks]</font>"
      ]
    },
    {
      "cell_type": "code",
      "execution_count": null,
      "metadata": {
        "id": "-M3WRwH9bzFW"
      },
      "outputs": [],
      "source": [
        "# Calculate sensitivity\n"
      ]
    },
    {
      "cell_type": "code",
      "execution_count": null,
      "metadata": {
        "id": "mAf35xDnbzFX"
      },
      "outputs": [],
      "source": [
        "# Calculate specificity\n"
      ]
    },
    {
      "cell_type": "markdown",
      "metadata": {
        "id": "nsUKjAT0bzFX"
      },
      "source": [
        "### **8.5 Calculate precision and recall** <font color = red>[4 marks]</font>"
      ]
    },
    {
      "cell_type": "code",
      "execution_count": null,
      "metadata": {
        "id": "19C3vTO3bzFX"
      },
      "outputs": [],
      "source": [
        "# Calculate precision\n"
      ]
    },
    {
      "cell_type": "code",
      "execution_count": null,
      "metadata": {
        "id": "vvyUapBfbzFX"
      },
      "outputs": [],
      "source": [
        "# Calculate recall\n"
      ]
    },
    {
      "cell_type": "markdown",
      "metadata": {
        "id": "Hmyrh46kbzFY"
      },
      "source": [
        "## Conclusion\n",
        "\n"
      ]
    }
  ],
  "metadata": {
    "kernelspec": {
      "display_name": "env",
      "language": "python",
      "name": "python3"
    },
    "language_info": {
      "codemirror_mode": {
        "name": "ipython",
        "version": 3
      },
      "file_extension": ".py",
      "mimetype": "text/x-python",
      "name": "python",
      "nbconvert_exporter": "python",
      "pygments_lexer": "ipython3",
      "version": "3.9.13"
    },
    "colab": {
      "provenance": [],
      "toc_visible": true
    }
  },
  "nbformat": 4,
  "nbformat_minor": 0
}