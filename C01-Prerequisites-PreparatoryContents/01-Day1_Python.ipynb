{
 "cells": [
  {
   "cell_type": "markdown",
   "metadata": {},
   "source": [
    "Agenda:\n",
    "1. Installation {Anaconda, VS Code, Extension}\n",
    "2. Importance of Environment {Anaconda} -> Industry\n",
    "3. Python Packages {setup.py, project.toml}\n",
    "4. .Env {LLM Models, Key, Configuration}"
   ]
  },
  {
   "cell_type": "markdown",
   "metadata": {},
   "source": [
    "Environment:\n",
    "\n",
    "Project-1               Project-2           Project-3\n",
    "\n",
    "python=3.7              python=3.10         python=3.12\n",
    "\n",
    "packages                tranformers         langraph\n",
    "\n",
    "ml tools                --                  langchain\n",
    "\n",
    "EDA                     "
   ]
  },
  {
   "cell_type": "markdown",
   "metadata": {},
   "source": [
    "conda create -p venv python==3.12 [Present Working directory]\n",
    "\n",
    "conda create -n venv python==3.12 [where anaconda is installed]\n",
    "\n",
    "conda activate venv/\n",
    "\n",
    "pip install requirements.txt\n",
    "\n"
   ]
  }
 ],
 "metadata": {
  "language_info": {
   "name": "python"
  }
 },
 "nbformat": 4,
 "nbformat_minor": 2
}
